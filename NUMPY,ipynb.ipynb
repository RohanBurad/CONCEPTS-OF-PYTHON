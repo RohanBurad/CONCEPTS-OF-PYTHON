{
  "nbformat": 4,
  "nbformat_minor": 0,
  "metadata": {
    "colab": {
      "provenance": [],
      "authorship_tag": "ABX9TyMRCE0tU8Mo8OByfmk0CHoM",
      "include_colab_link": true
    },
    "kernelspec": {
      "name": "python3",
      "display_name": "Python 3"
    },
    "language_info": {
      "name": "python"
    }
  },
  "cells": [
    {
      "cell_type": "markdown",
      "metadata": {
        "id": "view-in-github",
        "colab_type": "text"
      },
      "source": [
        "<a href=\"https://colab.research.google.com/github/RohanBurad/CONCEPTS-OF-PYTHON/blob/main/NUMPY%2Cipynb.ipynb\" target=\"_parent\"><img src=\"https://colab.research.google.com/assets/colab-badge.svg\" alt=\"Open In Colab\"/></a>"
      ]
    },
    {
      "cell_type": "markdown",
      "source": [
        "NUMPY CHAPTER 4"
      ],
      "metadata": {
        "id": "jnUlEIEbydd5"
      }
    },
    {
      "cell_type": "code",
      "execution_count": null,
      "metadata": {
        "colab": {
          "base_uri": "https://localhost:8080/"
        },
        "id": "V5KIzq9syYUy",
        "outputId": "26867da8-6db1-4102-dfcd-06eb7aa360f4"
      },
      "outputs": [
        {
          "output_type": "stream",
          "name": "stdout",
          "text": [
            "<class 'numpy.ndarray'>\n"
          ]
        }
      ],
      "source": [
        "import numpy as np\n",
        "x = np.array([1,2,3,4,5,6,7,11])\n",
        "print(type(x))"
      ]
    },
    {
      "cell_type": "markdown",
      "source": [
        "2D & 3D ARRAY"
      ],
      "metadata": {
        "id": "oGh1Q431ziLz"
      }
    },
    {
      "cell_type": "code",
      "source": [
        "Y = np.array([[1,2,3],[4,5,6],[7,8,9]])  #USING for loop for printing array\n",
        "\n",
        "for i in Y:\n",
        "  for j in i:\n",
        "      print(j)"
      ],
      "metadata": {
        "colab": {
          "base_uri": "https://localhost:8080/"
        },
        "id": "O4jS7hT-zkdQ",
        "outputId": "66e93070-47e6-49c4-8a7a-2ade62850119"
      },
      "execution_count": null,
      "outputs": [
        {
          "output_type": "stream",
          "name": "stdout",
          "text": [
            "1\n",
            "2\n",
            "3\n",
            "4\n",
            "5\n",
            "6\n",
            "7\n",
            "8\n",
            "9\n"
          ]
        }
      ]
    },
    {
      "cell_type": "markdown",
      "source": [
        "ZEROS"
      ],
      "metadata": {
        "id": "sNKKtBAM0OvY"
      }
    },
    {
      "cell_type": "code",
      "source": [
        "import numpy as np\n",
        "Z = np.zeros(10)\n",
        "print(Z)\n",
        "E = np.zeros((5,3))\n",
        "print(E)"
      ],
      "metadata": {
        "colab": {
          "base_uri": "https://localhost:8080/"
        },
        "id": "4IyvXSNV0Smx",
        "outputId": "3d9f82da-075e-4df8-8a8c-9b9e1cb92156"
      },
      "execution_count": null,
      "outputs": [
        {
          "output_type": "stream",
          "name": "stdout",
          "text": [
            "[0. 0. 0. 0. 0. 0. 0. 0. 0. 0.]\n",
            "[[0. 0. 0.]\n",
            " [0. 0. 0.]\n",
            " [0. 0. 0.]\n",
            " [0. 0. 0.]\n",
            " [0. 0. 0.]]\n"
          ]
        }
      ]
    },
    {
      "cell_type": "markdown",
      "source": [
        "ONES"
      ],
      "metadata": {
        "id": "DWGUmR3N0tzA"
      }
    },
    {
      "cell_type": "code",
      "source": [
        "a = np.ones(5)\n",
        "print(a)"
      ],
      "metadata": {
        "colab": {
          "base_uri": "https://localhost:8080/"
        },
        "id": "W60f6vNe0xd4",
        "outputId": "a49eaef8-e885-441d-aa5b-89b19019380c"
      },
      "execution_count": null,
      "outputs": [
        {
          "output_type": "stream",
          "name": "stdout",
          "text": [
            "[1. 1. 1. 1. 1.]\n"
          ]
        }
      ]
    },
    {
      "cell_type": "markdown",
      "source": [
        "ARANGE"
      ],
      "metadata": {
        "id": "s2q4sIuv058P"
      }
    },
    {
      "cell_type": "code",
      "source": [
        "b = np.arange(1,100,2) #PROVIDES RANGE for odd numbers\n",
        "c = np.arange(0,100,2) #PROVIDES RANGE for even numbers\n",
        "print(b)\n",
        "print(c)"
      ],
      "metadata": {
        "colab": {
          "base_uri": "https://localhost:8080/"
        },
        "id": "dENZo2bK1AfZ",
        "outputId": "b951244e-487e-4508-dd06-9377a5f99470"
      },
      "execution_count": null,
      "outputs": [
        {
          "output_type": "stream",
          "name": "stdout",
          "text": [
            "[ 1  3  5  7  9 11 13 15 17 19 21 23 25 27 29 31 33 35 37 39 41 43 45 47\n",
            " 49 51 53 55 57 59 61 63 65 67 69 71 73 75 77 79 81 83 85 87 89 91 93 95\n",
            " 97 99]\n",
            "[ 0  2  4  6  8 10 12 14 16 18 20 22 24 26 28 30 32 34 36 38 40 42 44 46\n",
            " 48 50 52 54 56 58 60 62 64 66 68 70 72 74 76 78 80 82 84 86 88 90 92 94\n",
            " 96 98]\n"
          ]
        }
      ]
    },
    {
      "cell_type": "markdown",
      "source": [
        "INDEXING , SLICING & RESHAPING"
      ],
      "metadata": {
        "id": "77K2If9in8Hf"
      }
    },
    {
      "cell_type": "code",
      "source": [
        "print(c[2])\n",
        "print(b[20])"
      ],
      "metadata": {
        "colab": {
          "base_uri": "https://localhost:8080/"
        },
        "id": "hzJfVt_F10nX",
        "outputId": "b09e6905-2898-402e-adde-db829dccec7c"
      },
      "execution_count": null,
      "outputs": [
        {
          "output_type": "stream",
          "name": "stdout",
          "text": [
            "4\n",
            "41\n"
          ]
        }
      ]
    },
    {
      "cell_type": "code",
      "source": [
        "print(c[2:56]) #slicing\n",
        "print(b[1::6]) #jumping\n",
        "for i in c:\n",
        "  print(i)"
      ],
      "metadata": {
        "colab": {
          "base_uri": "https://localhost:8080/"
        },
        "id": "6O6HtrC02btu",
        "outputId": "058c5d98-a3fb-462b-d44d-88a35d12f0ca"
      },
      "execution_count": null,
      "outputs": [
        {
          "output_type": "stream",
          "name": "stdout",
          "text": [
            "[ 4  6  8 10 12 14 16 18 20 22 24 26 28 30 32 34 36 38 40 42 44 46 48 50\n",
            " 52 54 56 58 60 62 64 66 68 70 72 74 76 78 80 82 84 86 88 90 92 94 96 98]\n",
            "[ 3 15 27 39 51 63 75 87 99]\n",
            "0\n",
            "2\n",
            "4\n",
            "6\n",
            "8\n",
            "10\n",
            "12\n",
            "14\n",
            "16\n",
            "18\n",
            "20\n",
            "22\n",
            "24\n",
            "26\n",
            "28\n",
            "30\n",
            "32\n",
            "34\n",
            "36\n",
            "38\n",
            "40\n",
            "42\n",
            "44\n",
            "46\n",
            "48\n",
            "50\n",
            "52\n",
            "54\n",
            "56\n",
            "58\n",
            "60\n",
            "62\n",
            "64\n",
            "66\n",
            "68\n",
            "70\n",
            "72\n",
            "74\n",
            "76\n",
            "78\n",
            "80\n",
            "82\n",
            "84\n",
            "86\n",
            "88\n",
            "90\n",
            "92\n",
            "94\n",
            "96\n",
            "98\n"
          ]
        }
      ]
    },
    {
      "cell_type": "code",
      "source": [
        "#RESHAPING\n",
        "x = np.array([1,2,3,4,5,6,7,11])\n",
        "re = x.reshape(4,2)\n",
        "print(re)\n"
      ],
      "metadata": {
        "colab": {
          "base_uri": "https://localhost:8080/"
        },
        "id": "sSoxRxyeoYaf",
        "outputId": "910ca400-5b40-492f-a2cf-8269f2991db8"
      },
      "execution_count": null,
      "outputs": [
        {
          "output_type": "stream",
          "name": "stdout",
          "text": [
            "[[ 1  2]\n",
            " [ 3  4]\n",
            " [ 5  6]\n",
            " [ 7 11]]\n"
          ]
        }
      ]
    },
    {
      "cell_type": "markdown",
      "source": [
        "MATHEMATICAL & STATICAL METHODS"
      ],
      "metadata": {
        "id": "xisdeCgf4EwY"
      }
    },
    {
      "cell_type": "code",
      "source": [
        "minimum = np.min(c)  # minimum\n",
        "print(minimum)\n",
        "max = np.max(b)  # maximum\n",
        "print(max)\n",
        "y=[1,2,3,4,5]\n",
        "z=[1,2,3,4,5,6]\n",
        "med = np.median(y) # median\n",
        "print(med)\n",
        "mod = np.mean(z)  # mean\n",
        "print(mod)\n",
        "std = np.std(z)  # standard deviation\n",
        "print(std)\n",
        "Std = np.std(Y)  # standard deviation in 3D ARRAY\n",
        "print(Std)\n",
        "sum = np.sum(y) # sum of elements in 1D Array\n",
        "Sum = np.sum(Y)  # sum of elements in 3D Array\n",
        "print(sum)\n",
        "print(Sum)"
      ],
      "metadata": {
        "colab": {
          "base_uri": "https://localhost:8080/"
        },
        "id": "DD_t84z54I8A",
        "outputId": "165e95bb-7219-4871-9a08-b564067df672"
      },
      "execution_count": null,
      "outputs": [
        {
          "output_type": "stream",
          "name": "stdout",
          "text": [
            "0\n",
            "99\n",
            "3.0\n",
            "3.5\n",
            "1.707825127659933\n",
            "2.581988897471611\n",
            "15\n",
            "45\n"
          ]
        }
      ]
    },
    {
      "cell_type": "markdown",
      "source": [
        "ITERATION OF 3D ARRAY"
      ],
      "metadata": {
        "id": "mF87q72T7BO1"
      }
    },
    {
      "cell_type": "code",
      "source": [
        "for i in Y:\n",
        "      print(i)\n",
        "print(\"\\n\")\n",
        "for i in Y:\n",
        "  for j in i:\n",
        "      print(j)"
      ],
      "metadata": {
        "colab": {
          "base_uri": "https://localhost:8080/"
        },
        "id": "zklRLlPx7Eef",
        "outputId": "615d23b8-8aed-4224-c0d5-920c9c40c003"
      },
      "execution_count": null,
      "outputs": [
        {
          "output_type": "stream",
          "name": "stdout",
          "text": [
            "[1 2 3]\n",
            "[4 5 6]\n",
            "[7 8 9]\n",
            "\n",
            "\n",
            "1\n",
            "2\n",
            "3\n",
            "4\n",
            "5\n",
            "6\n",
            "7\n",
            "8\n",
            "9\n"
          ]
        }
      ]
    }
  ]
}