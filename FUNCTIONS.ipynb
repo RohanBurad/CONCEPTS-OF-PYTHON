{
  "nbformat": 4,
  "nbformat_minor": 0,
  "metadata": {
    "colab": {
      "provenance": [],
      "authorship_tag": "ABX9TyP244j6PTlD3pgq+Neerto+",
      "include_colab_link": true
    },
    "kernelspec": {
      "name": "python3",
      "display_name": "Python 3"
    },
    "language_info": {
      "name": "python"
    }
  },
  "cells": [
    {
      "cell_type": "markdown",
      "metadata": {
        "id": "view-in-github",
        "colab_type": "text"
      },
      "source": [
        "<a href=\"https://colab.research.google.com/github/RohanBurad/CONCEPTS-OF-PYTHON/blob/main/FUNCTIONS.ipynb\" target=\"_parent\"><img src=\"https://colab.research.google.com/assets/colab-badge.svg\" alt=\"Open In Colab\"/></a>"
      ]
    },
    {
      "cell_type": "markdown",
      "source": [
        "Function"
      ],
      "metadata": {
        "id": "ozPM_TqlzVZR"
      }
    },
    {
      "cell_type": "code",
      "execution_count": null,
      "metadata": {
        "id": "1nRn7DPtzRdE",
        "colab": {
          "base_uri": "https://localhost:8080/"
        },
        "outputId": "963707c6-2a60-4ec5-9885-1cabf9c37fa8"
      },
      "outputs": [
        {
          "output_type": "stream",
          "name": "stdout",
          "text": [
            "hello this is mayank function\n",
            "hello this is me rohan!!!\n"
          ]
        }
      ],
      "source": [
        "def mayank():\n",
        "  print(\"hello this is mayank function\")\n",
        "  print(\"hello this is me rohan!!!\")\n",
        "\n",
        "mayank()"
      ]
    },
    {
      "cell_type": "markdown",
      "source": [
        "**scope of variables**"
      ],
      "metadata": {
        "id": "0CGua33e1b0i"
      }
    },
    {
      "cell_type": "code",
      "source": [
        "x=5 #global variable\n",
        "def rohan():\n",
        "  y=10 # local variable\n",
        "  print(x,y)\n",
        "\n",
        "rohan()\n",
        "print(x)\n",
        "# print(y) #error"
      ],
      "metadata": {
        "colab": {
          "base_uri": "https://localhost:8080/"
        },
        "id": "D_y6ytNm1ksH",
        "outputId": "1a864e1c-edc2-4fc8-8ac1-f85c0426aa74"
      },
      "execution_count": 1,
      "outputs": [
        {
          "output_type": "stream",
          "name": "stdout",
          "text": [
            "5 10\n",
            "5\n"
          ]
        }
      ]
    },
    {
      "cell_type": "markdown",
      "source": [
        "**return function**"
      ],
      "metadata": {
        "id": "-LbakXMy2l2n"
      }
    },
    {
      "cell_type": "code",
      "source": [
        "def sum(a,b,c):\n",
        "  d = a + b + c\n",
        "  return d\n",
        "\n",
        "x = sum(12,15,17)\n",
        "y = x-10\n",
        "print(x)\n",
        "print(y)"
      ],
      "metadata": {
        "colab": {
          "base_uri": "https://localhost:8080/"
        },
        "id": "fp4JXf1m2pMX",
        "outputId": "705c6b77-10c9-4b63-8f7f-10f3af09d51e"
      },
      "execution_count": null,
      "outputs": [
        {
          "output_type": "stream",
          "name": "stdout",
          "text": [
            "44\n",
            "34\n"
          ]
        }
      ]
    },
    {
      "cell_type": "markdown",
      "source": [
        "**arguments in function**"
      ],
      "metadata": {
        "id": "ibhtklKo4GgY"
      }
    },
    {
      "cell_type": "code",
      "source": [
        "def sum(a = 12,b = 15,c = 1,**kwargs):\n",
        "  print(a,b,c)\n",
        "  d = a + b + c\n",
        "  return d\n",
        "\n",
        "x = sum(c=31)\n",
        "print(x)"
      ],
      "metadata": {
        "colab": {
          "base_uri": "https://localhost:8080/"
        },
        "id": "RNpypIAd4JRW",
        "outputId": "5c7681f6-cdef-413f-97c9-6cfa256ff638"
      },
      "execution_count": null,
      "outputs": [
        {
          "output_type": "stream",
          "name": "stdout",
          "text": [
            "12 15 31\n",
            "58\n"
          ]
        }
      ]
    },
    {
      "cell_type": "markdown",
      "source": [
        "**Range Function (Sets the range in a function)**"
      ],
      "metadata": {
        "id": "q4DTEtJQ8RUX"
      }
    },
    {
      "cell_type": "code",
      "source": [
        "x = int(input(\"Enter Your Number :\"))\n",
        "if 5 < x < 500:\n",
        "  print(\"Number is in range\")\n",
        "else:\n",
        "  print(\"Number is not in range\")\n"
      ],
      "metadata": {
        "id": "4FZMmgby8Z80",
        "colab": {
          "base_uri": "https://localhost:8080/"
        },
        "outputId": "4bc8d70b-547d-4de9-e7e3-1b5fe5a6ec39"
      },
      "execution_count": null,
      "outputs": [
        {
          "output_type": "stream",
          "name": "stdout",
          "text": [
            "Enter Your Number :69\n",
            "Valid Range\n"
          ]
        }
      ]
    },
    {
      "cell_type": "markdown",
      "source": [
        "**Write a function to calculate factorial of a number.**"
      ],
      "metadata": {
        "id": "EpqWLC7XDn_h"
      }
    },
    {
      "cell_type": "code",
      "source": [
        "def fact():\n",
        "  X = int(input(\"Enter Your Number : \"))\n",
        "  fact = 1\n",
        "  for i in range(1,X+1):\n",
        "    fact = fact*i\n",
        "  print(\"The Factorial of %d = %d\"%(X,fact))\n",
        "fact()"
      ],
      "metadata": {
        "id": "A6N7WKd6EPGv"
      },
      "execution_count": null,
      "outputs": []
    },
    {
      "cell_type": "markdown",
      "source": [
        "Write a function to check if a string is a palindrome."
      ],
      "metadata": {
        "id": "podvxarO9q2V"
      }
    },
    {
      "cell_type": "code",
      "execution_count": null,
      "metadata": {
        "colab": {
          "base_uri": "https://localhost:8080/"
        },
        "id": "wl7Wj4IwJ8TW",
        "outputId": "14090318-b23b-4cc3-bf35-9d9be2fb7c06"
      },
      "outputs": [
        {
          "output_type": "stream",
          "name": "stdout",
          "text": [
            "Enter Your Word :lolol\n",
            "The Word is Palindrome Word.\n"
          ]
        }
      ],
      "source": [
        "# NEW CONCEPT OF PALINDROME :\n",
        "# PALINDROME STATES THAT IF WE READ THE STRING STRAIGHT OR REVERSE THE STRING WILL REMAIN SAME\n",
        "# CASE SENSITIVE\n",
        "# [START:STOP:JUMP]   STOP = result + 1\n",
        "string = input(\"Enter Your Word :\")\n",
        "def palindrome(string):\n",
        "  if s == s[::-1]:\n",
        "    print(\"The Word is Palindrome Word.\")\n",
        "  else:\n",
        "    print(\"The Word is not an Palindrome Word.\")\n",
        "palindrome(string)"
      ]
    },
    {
      "cell_type": "markdown",
      "source": [
        "**Write a function to find the Greater of three numbers.**"
      ],
      "metadata": {
        "id": "ssaF019695Xu"
      }
    },
    {
      "cell_type": "code",
      "execution_count": null,
      "metadata": {
        "colab": {
          "base_uri": "https://localhost:8080/"
        },
        "id": "4I12Q7SmMnOJ",
        "outputId": "084089ca-fd7c-4cc2-9ed3-ef359a591f3c"
      },
      "outputs": [
        {
          "output_type": "stream",
          "name": "stdout",
          "text": [
            "68\n",
            "How many number you want to check ?hfhgd\n",
            "The Number is Invalid Try Again !!\n"
          ]
        }
      ],
      "source": [
        "# for finding max numbers between 3 numbers\n",
        "x,y,z = 58,68,35\n",
        "a = max(x,y,z)\n",
        "print(a)\n",
        "\n",
        "# NOW CODE FOR USER INPUTS\n",
        "\n",
        "# First we will make a function named find_max\n",
        "\n",
        "def find_max():\n",
        "  try:\n",
        "    count = int(input(\"How many number you want to check ?\"))\n",
        "    if count <= 0:\n",
        "      print(\"Enter the Positive Value !!\")\n",
        "    number = []\n",
        "    for i in range(count):\n",
        "      num = float(input(f\"Enter the Number{i+1}:\")) # f string\n",
        "      number.append(num)\n",
        "    max_num = max(number)\n",
        "    print(max_num)\n",
        "  except ValueError:\n",
        "    print(\"The Number is Invalid Try Again !!\")\n",
        "find_max()"
      ]
    },
    {
      "cell_type": "markdown",
      "source": [
        "**Write a function to sum all elements in a list.**"
      ],
      "metadata": {
        "id": "4fKI6Mwr-AIP"
      }
    },
    {
      "cell_type": "code",
      "execution_count": null,
      "metadata": {
        "colab": {
          "base_uri": "https://localhost:8080/"
        },
        "id": "e7h_0W5bSBBj",
        "outputId": "0457f674-8fdc-470a-fde4-74b5a2f4f0d0"
      },
      "outputs": [
        {
          "name": "stdout",
          "output_type": "stream",
          "text": [
            "How many Numbers you want to print : 2\n",
            "Enter the number 1: 1\n",
            "Enter the number 2: 3\n",
            "4.0\n"
          ]
        }
      ],
      "source": [
        "def find_sum():\n",
        "  try:\n",
        "    S = int(input(\"How many Numbers you want to print : \"))\n",
        "    if S <= 0 :\n",
        "      print(\"Enter the Valid Number !!\")\n",
        "    num = []\n",
        "    for i in range(S):\n",
        "      n = float(input(f\"Enter the number {i+1}: \"))\n",
        "      num.append(n)\n",
        "    sum_ = sum(num)\n",
        "    print(sum_)\n",
        "  except ValueError:\n",
        "    print(\"------Invalid Number------\")\n",
        "find_sum()"
      ]
    },
    {
      "cell_type": "markdown",
      "source": [
        "Write a function to count vowels in a string."
      ],
      "metadata": {
        "id": "zuj5POPW-TxG"
      }
    },
    {
      "cell_type": "code",
      "execution_count": null,
      "metadata": {
        "colab": {
          "base_uri": "https://localhost:8080/"
        },
        "id": "Z7mZxH50UKW6",
        "outputId": "816636ce-4ae8-497b-ef2f-1f663496c2d4"
      },
      "outputs": [
        {
          "name": "stdout",
          "output_type": "stream",
          "text": [
            "Enter Your Word Here --> : Beautiful\n",
            "The Number of Vowels is :  5\n"
          ]
        }
      ],
      "source": [
        "def count_vowels():\n",
        "  S = input(\"Enter Your Word Here --> : \")\n",
        "  vowels = {'A','E','I','O','U','a','e','i','o','u'}\n",
        "  count = 0\n",
        "  for char in S:\n",
        "    if char in vowels:\n",
        "      count += 1\n",
        "  return count\n",
        "print(\"The Number of Vowels is : \",count_vowels())"
      ]
    },
    {
      "cell_type": "markdown",
      "source": [
        "Write a function to find the Fibonacci sequence up to n terms."
      ],
      "metadata": {
        "id": "2nU-m8O3-cPw"
      }
    },
    {
      "cell_type": "code",
      "execution_count": null,
      "metadata": {
        "colab": {
          "base_uri": "https://localhost:8080/"
        },
        "id": "nNPMwIkXrFL1",
        "outputId": "11612816-6b80-4ea9-a120-8590c11bcd42"
      },
      "outputs": [
        {
          "name": "stdout",
          "output_type": "stream",
          "text": [
            "Enter the Number :4\n",
            "The Fibonacci Series of 4 is : \n",
            "0 1 1 2 "
          ]
        }
      ],
      "source": [
        "def fibbo_series():\n",
        "  n = int(input(\"Enter the Number :\"))\n",
        "  a,b = 0,1\n",
        "  print(f\"The Fibonacci Series of {n} is : \")\n",
        "\n",
        "  for i in range(n):\n",
        "    print(a, end=' ')\n",
        "    c = a\n",
        "    a = b\n",
        "    b = c+b\n",
        "fibbo_series()"
      ]
    }
  ]
}