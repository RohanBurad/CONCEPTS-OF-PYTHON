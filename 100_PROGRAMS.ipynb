{
  "cells": [
    {
      "cell_type": "markdown",
      "metadata": {
        "id": "view-in-github",
        "colab_type": "text"
      },
      "source": [
        "<a href=\"https://colab.research.google.com/github/RohanBurad/AIML-PRACTICALS/blob/main/100_PROGRAMS.ipynb\" target=\"_parent\"><img src=\"https://colab.research.google.com/assets/colab-badge.svg\" alt=\"Open In Colab\"/></a>"
      ]
    },
    {
      "cell_type": "markdown",
      "metadata": {
        "id": "5Q7yHG-xwA49"
      },
      "source": [
        "**PRACTICAL 1**\n",
        "\n",
        "**Create a list of 10 student names and print them.**"
      ]
    },
    {
      "cell_type": "code",
      "execution_count": null,
      "metadata": {
        "colab": {
          "base_uri": "https://localhost:8080/"
        },
        "id": "tkVgsfvPwLRi",
        "outputId": "94ae6d17-ba7a-4930-bac4-9a8f08b7a3aa"
      },
      "outputs": [
        {
          "name": "stdout",
          "output_type": "stream",
          "text": [
            "['Khush', 'Jainam', 'Shubham', 'Rohan', 'Akshay', 'Mayank']\n"
          ]
        }
      ],
      "source": [
        "student = [\"Khush\",\"Jainam\",\"Shubham\",\"Rohan\",\"Akshay\",\"Mayank\"]\n",
        "print(student)"
      ]
    },
    {
      "cell_type": "markdown",
      "metadata": {
        "id": "L-OfVRoowkBN"
      },
      "source": [
        "**PRACTICAL 2**\n",
        "\n",
        "**Append 5 new student names to an existing list.**"
      ]
    },
    {
      "cell_type": "code",
      "execution_count": null,
      "metadata": {
        "colab": {
          "base_uri": "https://localhost:8080/"
        },
        "id": "hRuFQguEqBxG",
        "outputId": "b63eba62-21c1-4a5b-872e-861014d02387"
      },
      "outputs": [
        {
          "name": "stdout",
          "output_type": "stream",
          "text": [
            "['Khush', 'Jainam', 'Shubham', 'Rohan', 'Akshay', 'Mayank', 'Hitanshi', 'Hitanshi', 'Vivaan', 'Tanishq', 'Hitanshi', 'Vivaan', 'Tanishq', 'Hitanshi', 'Vivaan', 'Tanishq', 'Pratham', 'Virat']\n"
          ]
        }
      ],
      "source": [
        "student.append(\"Hitanshi\")\n",
        "student.append(\"Vivaan\")\n",
        "student.append(\"Tanishq\")\n",
        "student.append(\"Pratham\")\n",
        "student.append(\"Virat\")\n",
        "print(student)"
      ]
    },
    {
      "cell_type": "markdown",
      "metadata": {
        "id": "OlNc-PJpqZ_f"
      },
      "source": [
        "**PRACTICAL 3**\n",
        "\n",
        "**Remove duplicate elements from a list**"
      ]
    },
    {
      "cell_type": "code",
      "execution_count": null,
      "metadata": {
        "colab": {
          "base_uri": "https://localhost:8080/"
        },
        "id": "P4U-kTR2rM8i",
        "outputId": "6245c800-f479-422a-a393-93c1b80a0d03"
      },
      "outputs": [
        {
          "name": "stdout",
          "output_type": "stream",
          "text": [
            "[1, 2, 3, 4, 5, 6, 8]\n"
          ]
        }
      ],
      "source": [
        "my_list = [1,2,1,3,4,5,5,6,2,5,8]\n",
        "final_list = list(set(my_list))\n",
        "print(final_list)"
      ]
    },
    {
      "cell_type": "markdown",
      "metadata": {
        "id": "Ikf0UBlmtCwa"
      },
      "source": [
        "**PRACTICAL 4**\n",
        "\n",
        "**Sort a list of student marks in ascending order**"
      ]
    },
    {
      "cell_type": "code",
      "execution_count": null,
      "metadata": {
        "colab": {
          "base_uri": "https://localhost:8080/"
        },
        "id": "00cPQs3btMhk",
        "outputId": "51c6ebf1-28c5-472a-99ea-3987ad0c059c"
      },
      "outputs": [
        {
          "name": "stdout",
          "output_type": "stream",
          "text": [
            "[10, 25, 33, 54, 60, 65, 93, 99]\n"
          ]
        }
      ],
      "source": [
        "student_marks = [99,60,54,25,93,65,33,10]\n",
        "student_marks.sort()\n",
        "print(student_marks)"
      ]
    },
    {
      "cell_type": "markdown",
      "metadata": {
        "id": "OnmE7uKfti8v"
      },
      "source": [
        "**PRACTICAL 5**\n",
        "\n",
        "**Reverse the order of elements in a list**"
      ]
    },
    {
      "cell_type": "code",
      "execution_count": null,
      "metadata": {
        "colab": {
          "base_uri": "https://localhost:8080/"
        },
        "id": "JYXZWF21tqQR",
        "outputId": "89bb4ca4-0a6a-4c90-ef13-c7662a34c53b"
      },
      "outputs": [
        {
          "name": "stdout",
          "output_type": "stream",
          "text": [
            "[99, 60, 54, 25, 93, 65, 33, 10]\n"
          ]
        }
      ],
      "source": [
        "student_marks = [99,60,54,25,93,65,33,10]\n",
        "student_marks[::-1] # we used the slicing method which helps to make any list , tuple reverse\n",
        "print(student_marks)"
      ]
    },
    {
      "cell_type": "markdown",
      "metadata": {
        "id": "cVmX_Q2TuXJd"
      },
      "source": [
        "**PRACTICAL 6**\n",
        "\n",
        "**Find the index of a particular element in a list**"
      ]
    },
    {
      "cell_type": "code",
      "execution_count": null,
      "metadata": {
        "colab": {
          "base_uri": "https://localhost:8080/"
        },
        "collapsed": true,
        "id": "eYThVkNSug_K",
        "outputId": "ac541010-f5d0-4275-d152-f5ca388c007c"
      },
      "outputs": [
        {
          "name": "stdout",
          "output_type": "stream",
          "text": [
            "The Index is 3.\n"
          ]
        }
      ],
      "source": [
        "student = [\"Khush\",\"Jainam\",\"Shubham\",\"Rohan\",\"Akshay\",\"Mayank\"]\n",
        "my_index = student.index(\"Rohan\")\n",
        "print(f\"The Index is {my_index}.\")"
      ]
    },
    {
      "cell_type": "markdown",
      "metadata": {
        "id": "xp8EC5c-vunp"
      },
      "source": [
        "**PRACTICAL 7**\n",
        "\n",
        "**Count the occurrence of a specific item in a list**"
      ]
    },
    {
      "cell_type": "code",
      "execution_count": null,
      "metadata": {
        "colab": {
          "base_uri": "https://localhost:8080/"
        },
        "id": "5bM8sEfqv2pi",
        "outputId": "4f86a3ed-1b76-4a9c-f0d5-2ef34477ae6f"
      },
      "outputs": [
        {
          "name": "stdout",
          "output_type": "stream",
          "text": [
            "[1, 2, 1, 3, 4, 5, 5, 6, 2, 5, 8]\n",
            "3\n"
          ]
        }
      ],
      "source": [
        "my_list = [1,2,1,3,4,5,5,6,2,5,8]\n",
        "print(my_list)\n",
        "my_count = my_list.count(5)\n",
        "print(my_count)"
      ]
    },
    {
      "cell_type": "markdown",
      "metadata": {
        "id": "NpflQ8Ozwl63"
      },
      "source": [
        "**PRACTICAL 8**\n",
        "\n",
        "**Merge two list into a single list**"
      ]
    },
    {
      "cell_type": "code",
      "execution_count": null,
      "metadata": {
        "colab": {
          "base_uri": "https://localhost:8080/"
        },
        "id": "gNRlBt9Vwwp2",
        "outputId": "5d61b74f-06a2-4e60-a353-26049ad1106f"
      },
      "outputs": [
        {
          "name": "stdout",
          "output_type": "stream",
          "text": [
            "['Apple', 'Mango', 'Banana', 'Orange', 'Tomato', 'Potato', 'Onion']\n"
          ]
        }
      ],
      "source": [
        "fruits = [\"Apple\",\"Mango\",\"Banana\",\"Orange\"]\n",
        "vegetable = [\"Tomato\",\"Potato\",\"Onion\"]\n",
        "food = fruits + vegetable\n",
        "print(food)"
      ]
    },
    {
      "cell_type": "markdown",
      "metadata": {
        "id": "vZTt6_qOzpjF"
      },
      "source": [
        "**PRACTICAL 9**\n",
        "\n",
        "**Slice a list to get the first five elements**"
      ]
    },
    {
      "cell_type": "code",
      "execution_count": null,
      "metadata": {
        "colab": {
          "base_uri": "https://localhost:8080/"
        },
        "id": "8JhJuXSvzxAZ",
        "outputId": "bca1ed09-4ca3-4102-81cf-7464f762898b"
      },
      "outputs": [
        {
          "name": "stdout",
          "output_type": "stream",
          "text": [
            "['Apple', 'Mango', 'Banana', 'Orange', 'Tomato']\n"
          ]
        }
      ],
      "source": [
        "req_food = food[0:5]\n",
        "print(req_food)"
      ]
    },
    {
      "cell_type": "markdown",
      "metadata": {
        "id": "l69b5Fel0Frq"
      },
      "source": [
        "**PRACTICAL 10**\n",
        "\n",
        "**Replace an element at a specific index in a list**"
      ]
    },
    {
      "cell_type": "code",
      "execution_count": null,
      "metadata": {
        "colab": {
          "base_uri": "https://localhost:8080/"
        },
        "id": "Xqs7eNeC0TMs",
        "outputId": "3faf989a-7dac-4fd3-8777-86498985d1a1"
      },
      "outputs": [
        {
          "name": "stdout",
          "output_type": "stream",
          "text": [
            "['Khush', 'Jainam', 'Parita', 'Rohan', 'Akshay', 'Mayank']\n"
          ]
        }
      ],
      "source": [
        "\n",
        "student = [\"Khush\",\"Jainam\",\"Shubham\",\"Rohan\",\"Akshay\",\"Mayank\"]\n",
        "student[2] = \"Parita\"\n",
        "print (student)"
      ]
    },
    {
      "cell_type": "markdown",
      "metadata": {
        "id": "YTXWgbQDGyey"
      },
      "source": [
        "**PRACTICAL 11**\n",
        "\n",
        "**Clear all elements from a list**"
      ]
    },
    {
      "cell_type": "code",
      "execution_count": null,
      "metadata": {
        "colab": {
          "base_uri": "https://localhost:8080/"
        },
        "id": "EoWvFOCRr3cd",
        "outputId": "b2d4cc2c-3d72-4fd2-be25-8ab9c2d002a5"
      },
      "outputs": [
        {
          "name": "stdout",
          "output_type": "stream",
          "text": [
            "[]\n"
          ]
        }
      ],
      "source": [
        "\n",
        "student = [\"Khush\",\"Jainam\",\"Shubham\",\"Rohan\",\"Akshay\",\"Mayank\"]\n",
        "student.clear()\n",
        "print(student)"
      ]
    },
    {
      "cell_type": "markdown",
      "metadata": {
        "id": "sg28pOghtLKE"
      },
      "source": [
        "\n",
        "**PRACTICAL 12**\n",
        "\n",
        "**Create a tuple of 5 Subjects and print it**"
      ]
    },
    {
      "cell_type": "code",
      "execution_count": null,
      "metadata": {
        "colab": {
          "base_uri": "https://localhost:8080/"
        },
        "id": "DGzPcUxjtXtW",
        "outputId": "9aeeed00-9ce2-4284-b493-8582dfaff756"
      },
      "outputs": [
        {
          "name": "stdout",
          "output_type": "stream",
          "text": [
            "('Maths', 'Science', 'Social Science', 'English', 'History')\n"
          ]
        }
      ],
      "source": [
        "my_tuple = (\"Maths\",\"Science\",\"Social Science\",\"English\",\"History\")\n",
        "\n",
        "print(my_tuple)"
      ]
    },
    {
      "cell_type": "markdown",
      "metadata": {
        "id": "7Z_jbvU3txoi"
      },
      "source": [
        "**PRACTICAL 13**\n",
        "\n",
        "**Access the first and last element of a tuple**"
      ]
    },
    {
      "cell_type": "code",
      "execution_count": null,
      "metadata": {
        "colab": {
          "base_uri": "https://localhost:8080/"
        },
        "id": "aQcEXrddt4WL",
        "outputId": "22271d66-8c3a-4042-927a-aa7de1f01a4f"
      },
      "outputs": [
        {
          "name": "stdout",
          "output_type": "stream",
          "text": [
            "('Maths', 'History')\n"
          ]
        }
      ],
      "source": [
        "\n",
        "my_tuple = (\"Maths\",\"Science\",\"Social Science\",\"English\",\"History\")\n",
        "tu = my_tuple[0::4]\n",
        "print(tu)"
      ]
    },
    {
      "cell_type": "markdown",
      "metadata": {
        "id": "KUYnnu9HvoVD"
      },
      "source": [
        "**PRACTICAL 14**\n",
        "\n",
        "**Demonstrate immutability of tuples by attempting modification**"
      ]
    },
    {
      "cell_type": "code",
      "execution_count": null,
      "metadata": {
        "id": "rssbQTNHwOhq"
      },
      "outputs": [],
      "source": [
        "my_tuple = (\"Maths\",\"Science\",\"Social Science\",\"English\",\"History\")\n",
        "my_tuple.append(\"Geography\")\n",
        "print(my_tuple)"
      ]
    },
    {
      "cell_type": "markdown",
      "metadata": {
        "id": "Uk9ezEb7wbqq"
      },
      "source": [
        "**PRACTICAL 15**\n",
        "\n",
        "**Count the occurrences of a value in a tuple**"
      ]
    },
    {
      "cell_type": "code",
      "execution_count": null,
      "metadata": {
        "colab": {
          "base_uri": "https://localhost:8080/"
        },
        "id": "d4KGt6CIwkwU",
        "outputId": "71d3e6b0-f2a3-406f-81eb-3559ffbb23a3"
      },
      "outputs": [
        {
          "data": {
            "text/plain": [
              "5"
            ]
          },
          "execution_count": 19,
          "metadata": {},
          "output_type": "execute_result"
        }
      ],
      "source": [
        "my_tuple = (1,2,3,5,5,6,6,8,4,5,6,8,9,8,8,9,8)\n",
        "my_tuple.count(8) # Here we have taken 8 as value for the occurrence test"
      ]
    },
    {
      "cell_type": "markdown",
      "metadata": {
        "id": "dEa9-t-EyxvI"
      },
      "source": [
        "**PRACTICAL 16**\n",
        "\n",
        "**Finda the Length of a tuple**"
      ]
    },
    {
      "cell_type": "code",
      "execution_count": null,
      "metadata": {
        "colab": {
          "base_uri": "https://localhost:8080/"
        },
        "id": "a2EWLSdtzE8i",
        "outputId": "0db5d3f4-1119-486a-ad91-3c945990470b"
      },
      "outputs": [
        {
          "name": "stdout",
          "output_type": "stream",
          "text": [
            "5\n"
          ]
        }
      ],
      "source": [
        "my_tuple = (\"Maths\",\"Science\",\"Social Science\",\"English\",\"History\")\n",
        "length = len(my_tuple)\n",
        "print(length)"
      ]
    },
    {
      "cell_type": "markdown",
      "metadata": {
        "id": "5rzRXzQDyWl5"
      },
      "source": [
        "**PRACTICAL 17**\n",
        "\n",
        "**Convert a List into tuple into list**"
      ]
    },
    {
      "cell_type": "code",
      "execution_count": null,
      "metadata": {
        "colab": {
          "base_uri": "https://localhost:8080/"
        },
        "id": "J0ENYQlPO-UD",
        "outputId": "b0f57681-b639-4c4c-b9f1-94b3f0055ee6"
      },
      "outputs": [
        {
          "name": "stdout",
          "output_type": "stream",
          "text": [
            "(1, 2, 3, 'hi', 'hello')\n",
            "<class 'tuple'>\n"
          ]
        }
      ],
      "source": [
        "my_list = [1,2,3,\"hi\",\"hello\"]\n",
        "my_tuple = tuple(my_list)\n",
        "print(my_tuple)\n",
        "print(type(my_tuple))"
      ]
    },
    {
      "cell_type": "markdown",
      "metadata": {
        "id": "dXqNhgXlzr2P"
      },
      "source": [
        "**PRACTICAL 18**\n",
        "\n",
        "**Unpack a tuple into various variables**"
      ]
    },
    {
      "cell_type": "code",
      "execution_count": null,
      "metadata": {
        "colab": {
          "base_uri": "https://localhost:8080/"
        },
        "id": "5dLM67a6z4HN",
        "outputId": "ff188327-245b-495f-d259-28b8220212a1"
      },
      "outputs": [
        {
          "name": "stdout",
          "output_type": "stream",
          "text": [
            "There is a Apple in a bucket.\n",
            "There is a Tomato in a bucket.\n",
            "There is a Pumpkin seeds in a bucket.\n"
          ]
        }
      ],
      "source": [
        "my_bucket = (\"Apple\",\"Tomato\",\"Pumpkin seeds\")\n",
        "Fruit, Vegetable, Seed= my_bucket\n",
        "print(f\"There is a {Fruit} in a bucket.\")\n",
        "print(f\"There is a {Vegetable} in a bucket.\")\n",
        "print(f\"There is a {Seed} in a bucket.\")"
      ]
    },
    {
      "cell_type": "markdown",
      "metadata": {
        "id": "rGcAVmiF1UTO"
      },
      "source": [
        "**PRACTICAL 19**\n",
        "\n",
        "**Concatenate two tuples**"
      ]
    },
    {
      "cell_type": "code",
      "execution_count": null,
      "metadata": {
        "colab": {
          "base_uri": "https://localhost:8080/"
        },
        "id": "ukgPBzCi1jZc",
        "outputId": "670b0b8c-3931-4e8c-9744-7c3a37f752db"
      },
      "outputs": [
        {
          "name": "stdout",
          "output_type": "stream",
          "text": [
            "('Mobile', 'Tablet', 'TV', 'Fridge', 'Bat', 'BasketBall', 'VolleyBall', 'TennisBall')\n"
          ]
        }
      ],
      "source": [
        "my_device = (\"Mobile\",\"Tablet\",\"TV\",\"Fridge\")\n",
        "my_sports = (\"Bat\",\"BasketBall\",\"VolleyBall\",\"TennisBall\")\n",
        "my_collection = my_device + my_sports\n",
        "print(my_collection)"
      ]
    },
    {
      "cell_type": "markdown",
      "metadata": {
        "id": "kky015kV2SNN"
      },
      "source": [
        "**PRACTICAL 20**\n",
        "\n",
        "**Create a dictionary to store Students Name and Marks**"
      ]
    },
    {
      "cell_type": "code",
      "execution_count": null,
      "metadata": {
        "colab": {
          "base_uri": "https://localhost:8080/"
        },
        "id": "fD4Hu1CU2eZa",
        "outputId": "2af7706e-3ce6-40f9-ae3f-5bf5ed6dd744"
      },
      "outputs": [
        {
          "name": "stdout",
          "output_type": "stream",
          "text": [
            "{'Name': 'Rohan', 'Marks': 45}\n"
          ]
        }
      ],
      "source": [
        "Student_marks = {\"Name\":\"Rohan\",\"Marks\":45}\n",
        "print(Student_marks)"
      ]
    },
    {
      "cell_type": "markdown",
      "metadata": {
        "id": "Gwtz6nsR3PXN"
      },
      "source": [
        "**PRACTICAL 21**\n",
        "\n",
        "**Add a new student and marks to the dictionary**"
      ]
    },
    {
      "cell_type": "code",
      "execution_count": null,
      "metadata": {
        "colab": {
          "base_uri": "https://localhost:8080/"
        },
        "id": "r_pGP8Dr3c1B",
        "outputId": "0e9333de-35c3-4c13-d924-a24a0dd2a3f8"
      },
      "outputs": [
        {
          "name": "stdout",
          "output_type": "stream",
          "text": [
            "{'Rohan': 45, 'Akshay': 39, 'Mayank': 40}\n"
          ]
        }
      ],
      "source": [
        "Student_marks = {\"Rohan\":45,\"Akshay\":39}\n",
        "student = {\"Mayank\":40}\n",
        "Student_marks.update(student)\n",
        "print(Student_marks)"
      ]
    },
    {
      "cell_type": "markdown",
      "metadata": {
        "id": "zTGPt9YPEjyO"
      },
      "source": [
        "\n",
        "**PRACTICAL 22**\n",
        "\n",
        "**Remove a student entry from the dictionary**"
      ]
    },
    {
      "cell_type": "code",
      "execution_count": null,
      "metadata": {
        "colab": {
          "base_uri": "https://localhost:8080/"
        },
        "id": "2AHNaUlcKBql",
        "outputId": "316cbd78-1ac6-46a8-fb06-441ef5d063cd"
      },
      "outputs": [
        {
          "name": "stdout",
          "output_type": "stream",
          "text": [
            "{'Rohan': 45, 'Mayank': 40}\n"
          ]
        }
      ],
      "source": [
        "Student_marks = {\"Rohan\":45,\"Akshay\":39,\"Mayank\":40}\n",
        "Student_marks.pop(\"Akshay\")\n",
        "print(Student_marks)"
      ]
    },
    {
      "cell_type": "markdown",
      "metadata": {
        "id": "WhkI3uI0KlTo"
      },
      "source": [
        "**PRACTICAL 23**\n",
        "\n",
        "**Update marks of a student in the dictionary**"
      ]
    },
    {
      "cell_type": "code",
      "execution_count": null,
      "metadata": {
        "colab": {
          "base_uri": "https://localhost:8080/"
        },
        "id": "vsGcU_4PKuXF",
        "outputId": "2dced5cd-a4fb-4d75-9447-d055706c0dcd"
      },
      "outputs": [
        {
          "name": "stdout",
          "output_type": "stream",
          "text": [
            "{'Rohan': 45, 'Akshay': 35, 'Mayank': 40}\n"
          ]
        }
      ],
      "source": [
        "Student_marks = {\"Rohan\":45,\"Akshay\":39,\"Mayank\":40}\n",
        "Student_marks.update({\"Akshay\":35})\n",
        "print(Student_marks)"
      ]
    },
    {
      "cell_type": "markdown",
      "metadata": {
        "id": "_tHxQYXHLL4L"
      },
      "source": [
        "**PRACTICAL 24**\n",
        "\n",
        "**Retrieve marks for a given student**"
      ]
    },
    {
      "cell_type": "code",
      "execution_count": null,
      "metadata": {
        "colab": {
          "base_uri": "https://localhost:8080/"
        },
        "id": "_kI75WOYLVgY",
        "outputId": "73521b21-6825-4440-96db-1bd2f9cd42d8"
      },
      "outputs": [
        {
          "data": {
            "text/plain": [
              "26"
            ]
          },
          "execution_count": 50,
          "metadata": {},
          "output_type": "execute_result"
        }
      ],
      "source": [
        "Student_marks = {\"Rohan\":45,\"Akshay\":39,\"Mayank\":40,\"Hemang\":32,\"Parita\":26}\n",
        "Student_marks.get(\"Parita\")"
      ]
    },
    {
      "cell_type": "markdown",
      "metadata": {
        "id": "f7g0l8aONt7E"
      },
      "source": [
        "**PRACTICAL 25**\n",
        "\n",
        "**Check if a student name exists in the dictionary**"
      ]
    },
    {
      "cell_type": "code",
      "execution_count": null,
      "metadata": {
        "colab": {
          "base_uri": "https://localhost:8080/"
        },
        "id": "P8uRqtEMN8vo",
        "outputId": "beb33316-5695-46b3-a6d7-f8dfb2885ae1"
      },
      "outputs": [
        {
          "name": "stdout",
          "output_type": "stream",
          "text": [
            "None\n"
          ]
        }
      ],
      "source": [
        "Student_marks = {\"Rohan\":45,\"Akshay\":39,\"Mayank\":40,\"Hemang\":32,\"Parita\":26}\n",
        "x = Student_marks.get(\"Aksay\")\n",
        "# here we have written akshay as aksay so it checks the key is there or not if not it gives none\n",
        "print(x)"
      ]
    },
    {
      "cell_type": "markdown",
      "metadata": {
        "id": "zaeSUOrSKiyR"
      },
      "source": [
        "**PRACTICAL 26**\n",
        "\n",
        "**Get all student name exists in the dictionary**"
      ]
    },
    {
      "cell_type": "code",
      "execution_count": null,
      "metadata": {
        "colab": {
          "base_uri": "https://localhost:8080/"
        },
        "id": "4AVX1GCrKrtW",
        "outputId": "ea2702b8-26f7-4ddb-ebad-580afe824f90"
      },
      "outputs": [
        {
          "name": "stdout",
          "output_type": "stream",
          "text": [
            "['Rohan', 'Akshay', 'Mayank', 'Hemang', 'Parita']\n"
          ]
        }
      ],
      "source": [
        "Student_marks = {\"Rohan\":45,\"Akshay\":39,\"Mayank\":40,\"Hemang\":32,\"Parita\":26}\n",
        "Y = Student_marks.keys()\n",
        "print(list(Y))"
      ]
    },
    {
      "cell_type": "markdown",
      "metadata": {
        "id": "5-_ESS6dMEPy"
      },
      "source": [
        "**PRACTICAL 27**\n",
        "\n",
        "**Get all marks as a list from the dictionary**"
      ]
    },
    {
      "cell_type": "code",
      "execution_count": null,
      "metadata": {
        "colab": {
          "base_uri": "https://localhost:8080/"
        },
        "id": "aDhM6gY7QBqC",
        "outputId": "f12f6bdb-0a7e-40a6-84a8-fb794c02b294"
      },
      "outputs": [
        {
          "name": "stdout",
          "output_type": "stream",
          "text": [
            "[45, 39, 40, 32, 26]\n"
          ]
        }
      ],
      "source": [
        "Student_marks = {\"Rohan\":45,\"Akshay\":39,\"Mayank\":40,\"Hemang\":32,\"Parita\":26}\n",
        "y = Student_marks.values()\n",
        "print(list(y))"
      ]
    },
    {
      "cell_type": "markdown",
      "metadata": {
        "id": "eh6gPv50QO7V"
      },
      "source": [
        "**PRACTICAL 28**\n",
        "\n",
        "**Count the number of students in the dictionary**"
      ]
    },
    {
      "cell_type": "code",
      "execution_count": null,
      "metadata": {
        "colab": {
          "base_uri": "https://localhost:8080/"
        },
        "id": "Y_aT1OU8QVWd",
        "outputId": "ee62d98a-874a-41ac-baac-2ddbe7449b04"
      },
      "outputs": [
        {
          "output_type": "stream",
          "name": "stdout",
          "text": [
            "5\n"
          ]
        }
      ],
      "source": [
        "Student_marks = {\"Rohan\":45,\"Akshay\":39,\"Mayank\":40,\"Hemang\":32,\"Parita\":26}\n",
        "x = Student_marks.keys()\n",
        "y = len(x)\n",
        "print(y)"
      ]
    },
    {
      "cell_type": "markdown",
      "metadata": {
        "id": "kCCZPf35Q68v"
      },
      "source": [
        "**PRACTICAL 29**\n",
        "\n",
        "**Loop through the dictionary and print key-value pairs**"
      ]
    },
    {
      "cell_type": "code",
      "execution_count": null,
      "metadata": {
        "colab": {
          "base_uri": "https://localhost:8080/"
        },
        "id": "UiKTO3dZRD35",
        "outputId": "c462e9a0-f62c-4633-df9d-0905f6695e50"
      },
      "outputs": [
        {
          "output_type": "stream",
          "name": "stdout",
          "text": [
            "Rohan has scored marks in maths is 45\n",
            "Akshay has scored marks in maths is 39\n",
            "Mayank has scored marks in maths is 40\n",
            "Hemang has scored marks in maths is 32\n",
            "Parita has scored marks in maths is 26\n"
          ]
        }
      ],
      "source": [
        "Student_marks = {\"Rohan\":45,\"Akshay\":39,\"Mayank\":40,\"Hemang\":32,\"Parita\":26}\n",
        "for key,value in Student_marks.items():\n",
        "  print(f\"{key} has scored marks in maths is {value}\")"
      ]
    },
    {
      "cell_type": "markdown",
      "source": [
        "**PRACTICAL 30**\n",
        "\n",
        "**Merge two dictionaries containing students data**"
      ],
      "metadata": {
        "id": "K8M6A7x6URLd"
      }
    },
    {
      "cell_type": "code",
      "source": [
        "Dict = {\"Name\" : \"Rohan\" , \"Age\" : 19}\n",
        "Dict1 = {\"City\" : \"Ahmedabad\" , \"Hobby\" : \"Sports\"}\n",
        "Final = Dict | Dict1\n",
        "print(Final)"
      ],
      "metadata": {
        "colab": {
          "base_uri": "https://localhost:8080/"
        },
        "id": "KRLQkTzmzLjp",
        "outputId": "87587c4e-1d30-4de1-88b7-bea0e5de0a77"
      },
      "execution_count": null,
      "outputs": [
        {
          "output_type": "stream",
          "name": "stdout",
          "text": [
            "{'Name': 'Rohan', 'Age': 19, 'City': 'Ahmedabad', 'Hobby': 'Sports'}\n"
          ]
        }
      ]
    },
    {
      "cell_type": "markdown",
      "source": [
        "**PRACTICAL 31**\n",
        "\n",
        "**Clear all entries from the dictionary**"
      ],
      "metadata": {
        "id": "OcQvlISH0VKC"
      }
    },
    {
      "cell_type": "code",
      "source": [
        "Student_marks = {\"Rohan\":45,\"Akshay\":39,\"Mayank\":40,\"Hemang\":32,\"Parita\":26}\n",
        "Student_marks.clear()\n",
        "print(Student_marks)"
      ],
      "metadata": {
        "colab": {
          "base_uri": "https://localhost:8080/"
        },
        "id": "Nd0qAUQM0eNO",
        "outputId": "d0605ad1-8b98-4206-b2d6-38acd3f71650"
      },
      "execution_count": null,
      "outputs": [
        {
          "output_type": "stream",
          "name": "stdout",
          "text": [
            "{}\n"
          ]
        }
      ]
    },
    {
      "cell_type": "markdown",
      "metadata": {
        "id": "MxmViGda__Q3"
      },
      "source": [
        "**PRACTICAL 32**\n",
        "\n",
        "**Create a set of student names to eliminate duplicates.**"
      ]
    },
    {
      "cell_type": "code",
      "source": [
        "Name = (\"Rohan\",\"Mayank\",\"Akshay\",\"Parita\",\"Rohan\")\n",
        "x = set(Name)\n",
        "print(f\"Before Elimination of duplicates \\n{Name} \")\n",
        "print(f\"After Elimination of duplicates\\n{x}\")\n",
        "print(f\"{type(x)}\")"
      ],
      "metadata": {
        "colab": {
          "base_uri": "https://localhost:8080/"
        },
        "id": "IZnfvMq3xGjJ",
        "outputId": "c0d8290c-ef7d-40e8-a590-cda76c0f13b5"
      },
      "execution_count": null,
      "outputs": [
        {
          "output_type": "stream",
          "name": "stdout",
          "text": [
            "<class 'tuple'>\n",
            "Before Elimination of duplicates \n",
            "('Rohan', 'Mayank', 'Akshay', 'Parita', 'Rohan') \n",
            "After Elimination of duplicates\n",
            "{'Rohan', 'Mayank', 'Akshay', 'Parita'}\n",
            "<class 'set'>\n"
          ]
        }
      ]
    },
    {
      "cell_type": "markdown",
      "metadata": {
        "id": "09H-JS3XA0Q2"
      },
      "source": [
        "**PRACTICAL 33**\n",
        "\n",
        "**Add a new student name to the set.**"
      ]
    },
    {
      "cell_type": "code",
      "execution_count": null,
      "metadata": {
        "colab": {
          "base_uri": "https://localhost:8080/"
        },
        "id": "c4bn-EY6A5FG",
        "outputId": "c30b8e2d-c0c9-4d55-d788-03c8d6240f03"
      },
      "outputs": [
        {
          "output_type": "stream",
          "name": "stdout",
          "text": [
            "{'Mayank', 'Akshay', 'Rohan', 'Hitanshi', 'Parita'}\n"
          ]
        }
      ],
      "source": [
        "student_detail = {\"Rohan\",\"Mayank\",\"Akshay\",\"Parita\",\"Rohan\"}\n",
        "student_detail.add(\"Hitanshi\")\n",
        "print(student_detail)"
      ]
    },
    {
      "cell_type": "markdown",
      "metadata": {
        "id": "GeiCqccuBLn_"
      },
      "source": [
        "**PRACTICAL 34**\n",
        "\n",
        "**Remove a student name from the set.**"
      ]
    },
    {
      "cell_type": "code",
      "execution_count": null,
      "metadata": {
        "colab": {
          "base_uri": "https://localhost:8080/"
        },
        "id": "7yki0CukBQSv",
        "outputId": "f0a63797-7b8e-4fc0-81e8-a93f186c6bd2"
      },
      "outputs": [
        {
          "output_type": "stream",
          "name": "stdout",
          "text": [
            "{'Mayank', 'Parita', 'Rohan', 'Akshay'}\n"
          ]
        }
      ],
      "source": [
        "student_detail.remove(\"Hitanshi\")\n",
        "print(student_detail) # Hitanshi is being Removed"
      ]
    },
    {
      "cell_type": "markdown",
      "metadata": {
        "id": "BTtDoFadB9KG"
      },
      "source": [
        "**PRACTICAL 35**\n",
        "\n",
        "**Perform union of two sets of students.**"
      ]
    },
    {
      "cell_type": "code",
      "execution_count": null,
      "metadata": {
        "colab": {
          "base_uri": "https://localhost:8080/"
        },
        "id": "blcxPFTuCC7x",
        "outputId": "e37212e8-7079-4273-801b-60e1b5e38300"
      },
      "outputs": [
        {
          "name": "stdout",
          "output_type": "stream",
          "text": [
            "The Students of DIP CSE[AIML] :\n",
            "{'Mayank', 'Parita', 'Akshay', 'Rohan'}\n",
            "==================================================\n",
            "The Students of DIP IT :\n",
            "{'Shubham', 'Jhil', 'Jainam', 'Yagnik', 'Darshan'}\n",
            "==================================================\n",
            "The Class of 3DITB :\n",
            "{'Rohan', 'Darshan', 'Jhil', 'Yagnik', 'Mayank', 'Shubham', 'Jainam', 'Parita', 'Akshay'}\n"
          ]
        }
      ],
      "source": [
        "print(\"The Students of DIP CSE[AIML] :\")\n",
        "Name = {\"Rohan\",\"Mayank\",\"Akshay\",\"Parita\",\"Rohan\"}\n",
        "print(Name)\n",
        "print(\"==================================================\")\n",
        "print(\"The Students of DIP IT :\")\n",
        "Name1 = {\"Jainam\",\"Darshan\",\"Shubham\",\"Jhil\",\"Yagnik\"}\n",
        "print(Name1)\n",
        "print(\"==================================================\")\n",
        "# Now we will merge the class\n",
        "print(\"The Class of 3DITB :\")\n",
        "x = Name|Name1\n",
        "print(x)"
      ]
    },
    {
      "cell_type": "markdown",
      "metadata": {
        "id": "ZgUbEJXAETMh"
      },
      "source": [
        "**PRACTICAL 36**\n",
        "\n",
        "**Perform intersection of two sets of students.**"
      ]
    },
    {
      "cell_type": "code",
      "execution_count": null,
      "metadata": {
        "colab": {
          "base_uri": "https://localhost:8080/"
        },
        "id": "cAW5YoknEXEq",
        "outputId": "57dc8c24-013b-418e-ecbe-0a895ba077ac"
      },
      "outputs": [
        {
          "name": "stdout",
          "output_type": "stream",
          "text": [
            "{2, 3, 4, 6}\n"
          ]
        }
      ],
      "source": [
        "a = {1,2,3,4,5,6}\n",
        "b = {6,4,2,3,7,8}\n",
        "c= a & b\n",
        "print(c)"
      ]
    },
    {
      "cell_type": "markdown",
      "metadata": {
        "id": "QfOwn8kHE_3a"
      },
      "source": [
        "**PRACTICAL 37**\n",
        "\n",
        "**Check if one set is a subset of another.**"
      ]
    },
    {
      "cell_type": "code",
      "execution_count": null,
      "metadata": {
        "colab": {
          "base_uri": "https://localhost:8080/"
        },
        "id": "uTrdpXMyFCz6",
        "outputId": "7f7e32c0-0b7e-494b-dacf-1a87e9aa76e0"
      },
      "outputs": [
        {
          "name": "stdout",
          "output_type": "stream",
          "text": [
            "True\n"
          ]
        }
      ],
      "source": [
        "from typing import Set\n",
        "a = {1,2,3,4,5,6,7,8,9,10,11,12}\n",
        "b = {6,4,2,3,1,8}\n",
        "c = b <= a                       #  '<=' CHECKS THAT THE b IS A SUBSET OF a , TRUE OR FALSE\n",
        "C = a.issubset(b)\n",
        "print(c)"
      ]
    },
    {
      "cell_type": "markdown",
      "metadata": {
        "id": "G8hO982MG-kA"
      },
      "source": [
        "**PRACTICAL 38**\n",
        "\n",
        "**Find difference between two sets.**"
      ]
    },
    {
      "cell_type": "code",
      "execution_count": null,
      "metadata": {
        "colab": {
          "base_uri": "https://localhost:8080/"
        },
        "id": "v5pg2czJHCBf",
        "outputId": "02a0a15e-7da9-440b-f566-ba6a948ac228"
      },
      "outputs": [
        {
          "output_type": "stream",
          "name": "stdout",
          "text": [
            "{5, 7, 9, 10, 11, 12}\n"
          ]
        }
      ],
      "source": [
        "a = {1,2,3,4,5,6,7,8,9,10,11,12}\n",
        "b = {6,4,2,3,1,8}\n",
        "c = a - b\n",
        "# C = a.difference(b)\n",
        "print(c)\n",
        "# print(C)"
      ]
    },
    {
      "cell_type": "markdown",
      "metadata": {
        "id": "LeTSQ4AUHg1B"
      },
      "source": [
        "**PRACTICAL 39**\n",
        "\n",
        "**Write a function to calculate factorial of a number.**"
      ]
    },
    {
      "cell_type": "code",
      "execution_count": null,
      "metadata": {
        "colab": {
          "base_uri": "https://localhost:8080/"
        },
        "id": "OAvzUHncHmEI",
        "outputId": "0ad984c0-fc11-4da3-c0f9-273e7ff49ba6"
      },
      "outputs": [
        {
          "output_type": "stream",
          "name": "stdout",
          "text": [
            "Enter Your Number : 6\n",
            "The Factorial of 6 = 720\n"
          ]
        }
      ],
      "source": [
        "def fact():\n",
        "  X = int(input(\"Enter Your Number : \"))\n",
        "  fact = 1\n",
        "  for i in range(1,X+1):\n",
        "    fact = fact*i\n",
        "  print(\"The Factorial of %d = %d\"%(X,fact))\n",
        "fact()"
      ]
    },
    {
      "cell_type": "markdown",
      "metadata": {
        "id": "4HwWm2CQJ4vM"
      },
      "source": [
        "**PRACTICAL 40**\n",
        "\n",
        "**Write a function to check if a string is a palindrome.**"
      ]
    },
    {
      "cell_type": "code",
      "execution_count": null,
      "metadata": {
        "colab": {
          "base_uri": "https://localhost:8080/"
        },
        "id": "wl7Wj4IwJ8TW",
        "outputId": "247bd7d7-473a-48b9-ab72-01b8ee1fb04a"
      },
      "outputs": [
        {
          "name": "stdout",
          "output_type": "stream",
          "text": [
            "Enter Your Word :malayalam\n",
            "The Word is Palindrome\n"
          ]
        }
      ],
      "source": [
        "# NEW CONCEPT OF PALINDROME :\n",
        "# PALINDROME STATES THAT IF WE READ THE STRING STRAIGHT OR REVERSE THE STRING WILL REMAIN SAME\n",
        "\n",
        "# FOR EXAMPLE\n",
        "s = input(\"Enter Your Word :\")\n",
        "if s == s[::-1]:\n",
        "  print(\"The Word is Palindrome\")\n",
        "else:\n",
        "  print(\"The Word is not an Palindrome Word\")"
      ]
    },
    {
      "cell_type": "markdown",
      "metadata": {
        "id": "MUN6hI6sMj0S"
      },
      "source": [
        "**PRACTICAL 41**\n",
        "\n",
        "**Write a function to find the maximum of three numbers.**"
      ]
    },
    {
      "cell_type": "code",
      "execution_count": null,
      "metadata": {
        "colab": {
          "base_uri": "https://localhost:8080/"
        },
        "id": "4I12Q7SmMnOJ",
        "outputId": "efa5b41b-29e2-4b69-a5e8-2d8e90ead2f3"
      },
      "outputs": [
        {
          "output_type": "stream",
          "name": "stdout",
          "text": [
            "68\n",
            "How many number you want to check ? 3\n",
            "Enter the Number1:25\n",
            "Enter the Number2:26\n",
            "Enter the Number3:520\n",
            "520.0\n"
          ]
        }
      ],
      "source": [
        "# for finding max numbers between 3 numbers\n",
        "\n",
        "x = 58\n",
        "y = 68\n",
        "z = 25\n",
        "\n",
        "a = max(x,y,z)\n",
        "print(a)\n",
        "\n",
        "# NOW CODE FOR USER INPUTS\n",
        "\n",
        "# First we will make a function named find_max\n",
        "\n",
        "def find_max():\n",
        "  try:\n",
        "    count = int(input(\"How many number you want to check ? \"))\n",
        "    if count <= 0:\n",
        "      print(\"Enter the Positive Value !!\")\n",
        "\n",
        "    number = []\n",
        "    for i in range(count):\n",
        "      num = float(input(f\"Enter the Number{i+1}:\"))\n",
        "      number.append(num)\n",
        "    max_num = max(number)\n",
        "    print(max_num)\n",
        "  except ValueError:\n",
        "    print(\"The Number is Invalid Try Again !!\")\n",
        "find_max()"
      ]
    },
    {
      "cell_type": "markdown",
      "metadata": {
        "id": "4LKm0fnER-Dj"
      },
      "source": [
        "**PRACTICAL 42**\n",
        "**Write a function to sum all elements in a list.**"
      ]
    },
    {
      "cell_type": "code",
      "execution_count": null,
      "metadata": {
        "colab": {
          "base_uri": "https://localhost:8080/"
        },
        "id": "e7h_0W5bSBBj",
        "outputId": "0457f674-8fdc-470a-fde4-74b5a2f4f0d0"
      },
      "outputs": [
        {
          "name": "stdout",
          "output_type": "stream",
          "text": [
            "How many Numbers you want to print : 2\n",
            "Enter the number 1: 1\n",
            "Enter the number 2: 3\n",
            "4.0\n"
          ]
        }
      ],
      "source": [
        "def find_sum():\n",
        "  try:\n",
        "    S = int(input(\"How many Numbers you want to print : \"))\n",
        "    if S <= 0 :\n",
        "      print(\"Enter the Valid Number !!\")\n",
        "    num = []\n",
        "    for i in range(S):\n",
        "      n = float(input(f\"Enter the number {i+1}: \"))\n",
        "      num.append(n)\n",
        "    sum_ = sum(num)\n",
        "    print(sum_)\n",
        "  except ValueError:\n",
        "    print(\"------Invalid Number------\")\n",
        "find_sum()"
      ]
    },
    {
      "cell_type": "markdown",
      "metadata": {
        "id": "WRKn5QttUIAZ"
      },
      "source": [
        "**PRACTICAL 43**\n",
        "\n",
        "**Write a function to count vowels in a string.**"
      ]
    },
    {
      "cell_type": "code",
      "execution_count": null,
      "metadata": {
        "colab": {
          "base_uri": "https://localhost:8080/"
        },
        "id": "Z7mZxH50UKW6",
        "outputId": "816636ce-4ae8-497b-ef2f-1f663496c2d4"
      },
      "outputs": [
        {
          "name": "stdout",
          "output_type": "stream",
          "text": [
            "Enter Your Word Here --> : Beautiful\n",
            "The Number of Vowels is :  5\n"
          ]
        }
      ],
      "source": [
        "def count_vowels():\n",
        "  S = input(\"Enter Your Word Here --> : \")\n",
        "  vowels = {'A','E','I','O','U','a','e','i','o','u'}\n",
        "  count = 0\n",
        "  for char in S:\n",
        "    if char in vowels:\n",
        "      count += 1\n",
        "  return count\n",
        "print(\"The Number of Vowels is : \",count_vowels())"
      ]
    },
    {
      "cell_type": "markdown",
      "metadata": {
        "id": "NZAHEWFarBiW"
      },
      "source": [
        "**PRACTICAL 44**\n",
        "\n",
        "**Write a function to find the Fibonacci sequence up to n terms.**"
      ]
    },
    {
      "cell_type": "code",
      "execution_count": null,
      "metadata": {
        "colab": {
          "base_uri": "https://localhost:8080/"
        },
        "id": "nNPMwIkXrFL1",
        "outputId": "11612816-6b80-4ea9-a120-8590c11bcd42"
      },
      "outputs": [
        {
          "name": "stdout",
          "output_type": "stream",
          "text": [
            "Enter the Number :4\n",
            "The Fibonacci Series of 4 is : \n",
            "0 1 1 2 "
          ]
        }
      ],
      "source": [
        "def fibbo_series():\n",
        "  n = int(input(\"Enter the Number :\"))\n",
        "  a,b = 0,1\n",
        "  print(f\"The Fibonacci Series of {n} is : \")\n",
        "\n",
        "  for i in range(n):\n",
        "    print(a, end=' ')\n",
        "    c = a\n",
        "    a = b\n",
        "    b = c+b\n",
        "fibbo_series()"
      ]
    },
    {
      "cell_type": "markdown",
      "metadata": {
        "id": "cITlF7XvinYO"
      },
      "source": [
        "**PRACTICAL  45**\n",
        "\n",
        "**Write a function to check if a number is prime.**"
      ]
    },
    {
      "cell_type": "code",
      "execution_count": null,
      "metadata": {
        "colab": {
          "base_uri": "https://localhost:8080/",
          "height": 53
        },
        "id": "mUTVVvZKizGs",
        "outputId": "d76ba3cf-4b92-4929-fba3-5bc019c5ce2e"
      },
      "outputs": [
        {
          "name": "stdout",
          "output_type": "stream",
          "text": [
            "Enter the Number for Check : 1\n"
          ]
        },
        {
          "data": {
            "application/vnd.google.colaboratory.intrinsic+json": {
              "type": "string"
            },
            "text/plain": [
              "'1 is not a Prime Number'"
            ]
          },
          "execution_count": 28,
          "metadata": {},
          "output_type": "execute_result"
        }
      ],
      "source": [
        "#   Function for Checking Prime Number\n",
        "def check_prime(n):\n",
        "  if n <= 1:\n",
        "    return (f\"{n} is not a Prime Number\")\n",
        "\n",
        "  for i in range(2,int(n**0.5+1)):\n",
        "    if n % i == 0:\n",
        "      return (f\"{n} is not a Prime Number.\")\n",
        "    else:\n",
        "      return (f\"{n} is Prime Number.\")\n",
        "number = int(input(\"Enter the Number for Check : \"))\n",
        "check_prime(number)"
      ]
    },
    {
      "cell_type": "markdown",
      "metadata": {
        "id": "sV7Yj-JvMtCk"
      },
      "source": [
        "**PRACTICAL 46**\n",
        "\n",
        "**Write a function to return the reverse of a string.**"
      ]
    },
    {
      "cell_type": "code",
      "execution_count": null,
      "metadata": {
        "colab": {
          "base_uri": "https://localhost:8080/",
          "height": 53
        },
        "id": "eNuv9aCZM0D7",
        "outputId": "9e8b7122-46a0-4cb7-fea7-f2d720560744"
      },
      "outputs": [
        {
          "name": "stdout",
          "output_type": "stream",
          "text": [
            "Enter Your Name : Hemang\n"
          ]
        },
        {
          "data": {
            "application/vnd.google.colaboratory.intrinsic+json": {
              "type": "string"
            },
            "text/plain": [
              "'gnameH'"
            ]
          },
          "execution_count": 30,
          "metadata": {},
          "output_type": "execute_result"
        }
      ],
      "source": [
        "def reverse_func(s):\n",
        "  return s[::-1]             # s[start:stop:step]  is key to use the slicing method or reversing the string\n",
        "my_string = input(\"Enter Your Name : \")\n",
        "reverse_func(my_string)"
      ]
    },
    {
      "cell_type": "markdown",
      "metadata": {
        "id": "GFm338e9O3i5"
      },
      "source": [
        "**PRACTICAL 47**\n",
        "\n",
        "**Write a function to calculate the area of a rectangle.**"
      ]
    },
    {
      "cell_type": "code",
      "execution_count": null,
      "metadata": {
        "colab": {
          "base_uri": "https://localhost:8080/"
        },
        "id": "26hLTFHGRhBC",
        "outputId": "8435e1bf-35ab-43b9-eb78-2233007791b6"
      },
      "outputs": [
        {
          "name": "stdout",
          "output_type": "stream",
          "text": [
            "Enter the Value of Length : 5\n",
            "Enter the Value of Breadth : 5\n",
            "Area = 5 * 5\n",
            "Area of Rectangle is 25\n"
          ]
        }
      ],
      "source": [
        "import math as maths\n",
        "def math_calculation(length,breadth):\n",
        "  if length&breadth < 0:\n",
        "    print(\"Please Enter the Valid Input\")\n",
        "  else:\n",
        "    area = length * breadth\n",
        "    print(f\"Area = {length} * {breadth}\")\n",
        "    print(f\"Area of Rectangle is {area}\")\n",
        "X = int(input(\"Enter the Value of Length : \"))\n",
        "Y = int(input(\"Enter the Value of Breadth : \"))\n",
        "math_calculation(X,Y)\n"
      ]
    },
    {
      "cell_type": "markdown",
      "metadata": {
        "id": "vi9wZw5EUMti"
      },
      "source": [
        "**PRACTICAL 48**\n",
        "\n",
        "**Write a function to convert Celsius to Fahrenheit.**"
      ]
    },
    {
      "cell_type": "code",
      "execution_count": null,
      "metadata": {
        "colab": {
          "base_uri": "https://localhost:8080/"
        },
        "id": "Tp1YCq8DUWpK",
        "outputId": "10431973-6468-437a-ff58-eedbd038470e"
      },
      "outputs": [
        {
          "output_type": "stream",
          "name": "stdout",
          "text": [
            "Enter the Value of Degree in Celsius : 55\n",
            "328.15 K is the converted value of 55 C⁰\n"
          ]
        }
      ],
      "source": [
        "def convert_temp(degree):\n",
        "  K = degree + 273.15\n",
        "  print(f\"{K} K is the converted value of {degree} C⁰\")\n",
        "\n",
        "Degree = int(input(f\"Enter the Value of Degree in Celsius : \"))\n",
        "convert_temp(Degree)"
      ]
    },
    {
      "cell_type": "markdown",
      "source": [
        "**PRACTICAL 49**\n",
        "\n",
        "**Write a recursive function to compute power of a number**"
      ],
      "metadata": {
        "id": "sa8YIQTcsipc"
      }
    },
    {
      "cell_type": "code",
      "source": [
        "def power_conversion(base, exp):\n",
        "    if exp == 0:\n",
        "        return 1\n",
        "    else:\n",
        "        return base * power_conversion(base, exp - 1)\n",
        "\n",
        "\n",
        "base_num = int(input(\"Enter the Value for the Base : \"))\n",
        "exp = int(input(\"Enter the value of Power : \"))\n",
        "\n",
        "\n",
        "result = power_conversion(base_num, exp)\n",
        "print(f\"{base_num} raised to the power {exp} is: {result}\")"
      ],
      "metadata": {
        "id": "GLKLs2xlsrf-",
        "colab": {
          "base_uri": "https://localhost:8080/"
        },
        "outputId": "794d3993-e2fa-4d88-b35c-219ec3e732e3"
      },
      "execution_count": null,
      "outputs": [
        {
          "output_type": "stream",
          "name": "stdout",
          "text": [
            "Enter the Value for the Base : 3\n",
            "Enter the value of Power : 2\n",
            "3 raised to the power 2 is: 9\n"
          ]
        }
      ]
    },
    {
      "cell_type": "markdown",
      "source": [
        "**PRACTICAL 50**\n",
        "\n",
        "**Convert a string to uppercase**"
      ],
      "metadata": {
        "id": "-Q5NgSsBNIcT"
      }
    },
    {
      "cell_type": "code",
      "source": [
        "x = input(\"Enter your sentences here : \")\n",
        "y = x.upper()\n",
        "print(f\"Before update : {x}\")\n",
        "print(f\"After update : {y}\")"
      ],
      "metadata": {
        "colab": {
          "base_uri": "https://localhost:8080/"
        },
        "id": "eA_TrSsRNPOV",
        "outputId": "3a579d07-36a2-4eec-de76-53cd45fc15d9"
      },
      "execution_count": null,
      "outputs": [
        {
          "output_type": "stream",
          "name": "stdout",
          "text": [
            "Enter your sentences here : Tanishq \n",
            "Before update : Tanishq \n",
            "After update : TANISHQ \n"
          ]
        }
      ]
    },
    {
      "cell_type": "markdown",
      "source": [
        "**PRACTICAL 51**\n",
        "\n",
        "**Convert a string to lowercase**"
      ],
      "metadata": {
        "id": "EqA2l-ybOFNF"
      }
    },
    {
      "cell_type": "code",
      "source": [
        "X = input (\"Enter your words : \")\n",
        "y = X.lower()\n",
        "print(f\"Before update : {X}\")\n",
        "print(f\"After update : {y}\")"
      ],
      "metadata": {
        "colab": {
          "base_uri": "https://localhost:8080/"
        },
        "id": "7AIQGYa1OqZQ",
        "outputId": "d5eadd86-451f-4331-dde7-d90912981222"
      },
      "execution_count": null,
      "outputs": [
        {
          "output_type": "stream",
          "name": "stdout",
          "text": [
            "Enter your words : ROHAN\n",
            "Before update : ROHAN\n",
            "After update : rohan\n"
          ]
        }
      ]
    },
    {
      "cell_type": "markdown",
      "source": [
        "**PRACTICAL 52**\n",
        "\n",
        "**Count the number of words in a sentence**"
      ],
      "metadata": {
        "id": "t5aZOd6uPqEQ"
      }
    },
    {
      "cell_type": "code",
      "source": [
        "a = input(\"Enter the sentence: \")\n",
        "y = a.split()\n",
        "z = len(y)\n",
        "print(f\"This sentence has total {z} words in the sentence\")"
      ],
      "metadata": {
        "colab": {
          "base_uri": "https://localhost:8080/"
        },
        "id": "rD2O4mRuP1Az",
        "outputId": "396646f5-1f3c-450c-a797-b986ad12e738"
      },
      "execution_count": null,
      "outputs": [
        {
          "output_type": "stream",
          "name": "stdout",
          "text": [
            "Enter the sentence: i want to be an eSports player \n",
            "This sentence has total 7 words in the sentence\n"
          ]
        }
      ]
    },
    {
      "cell_type": "markdown",
      "source": [
        "**PRACTICAL 53**\n",
        "\n",
        "**Replace all spaces in a string with underscores.**"
      ],
      "metadata": {
        "id": "0k8UQuEyZ0XE"
      }
    },
    {
      "cell_type": "code",
      "source": [
        "x = input(\"Enter the string : \")\n",
        "y = x.replace(' ','_')\n",
        "print(y)"
      ],
      "metadata": {
        "colab": {
          "base_uri": "https://localhost:8080/"
        },
        "id": "e1Z9kNO1Z-cr",
        "outputId": "9882642d-4608-4a2e-cc9e-46d44d271852"
      },
      "execution_count": null,
      "outputs": [
        {
          "output_type": "stream",
          "name": "stdout",
          "text": [
            "Enter the string : Rohan burad\n",
            "Rohan_burad\n"
          ]
        }
      ]
    },
    {
      "cell_type": "markdown",
      "source": [
        "**PRACTICAL 54**\n",
        "\n",
        "**Check if a string starts with a specific prefix.**"
      ],
      "metadata": {
        "id": "0Ny5e1QOahq-"
      }
    },
    {
      "cell_type": "code",
      "source": [
        "prefix = input(\"Enter the prefix to check: \")\n",
        "if prefix.startswith(prefix):\n",
        "  print(\"The String Starts with Prefix !\")\n",
        "else:\n",
        "  print(\"The string Starts with Suffix !\")"
      ],
      "metadata": {
        "colab": {
          "base_uri": "https://localhost:8080/"
        },
        "id": "59nZif2Zasbi",
        "outputId": "03226731-083d-41fb-d862-0ee04c3a7dab"
      },
      "execution_count": null,
      "outputs": [
        {
          "output_type": "stream",
          "name": "stdout",
          "text": [
            "Enter the prefix to check: elephant\n",
            "The String Starts with Prefix !\n"
          ]
        }
      ]
    },
    {
      "cell_type": "markdown",
      "source": [
        "**PRACTICAL 55**\n",
        "\n",
        "**Extract a substring from a string.**"
      ],
      "metadata": {
        "id": "r4Wtcf8cdUCz"
      }
    },
    {
      "cell_type": "code",
      "source": [
        "X = \"Hello! Welcome to our new Session \"\n",
        "y = X[7:14] # by using slice i extracted the substring\n",
        "print(y)"
      ],
      "metadata": {
        "colab": {
          "base_uri": "https://localhost:8080/"
        },
        "id": "IB-IdwOodYMb",
        "outputId": "96b8c121-88b2-4152-d53a-8b02a1ddcd41"
      },
      "execution_count": null,
      "outputs": [
        {
          "output_type": "stream",
          "name": "stdout",
          "text": [
            "Welcome\n"
          ]
        }
      ]
    },
    {
      "cell_type": "markdown",
      "source": [
        "**PRACTICAL 56**\n",
        "\n",
        "**Split a string into a list based on a delimiter.**"
      ],
      "metadata": {
        "id": "3cOsAOrpgbSB"
      }
    },
    {
      "cell_type": "code",
      "source": [
        "X = input(\"Enter your Sentence : \")\n",
        "y = X.split()\n",
        "print(y)"
      ],
      "metadata": {
        "colab": {
          "base_uri": "https://localhost:8080/"
        },
        "id": "1np__L8YghQa",
        "outputId": "acd7ec5f-7bbf-46af-f16e-6ba60e502609"
      },
      "execution_count": null,
      "outputs": [
        {
          "output_type": "stream",
          "name": "stdout",
          "text": [
            "Enter your Sentence : the jungle is too big\n",
            "['the', 'jungle', 'is', 'too', 'big']\n"
          ]
        }
      ]
    },
    {
      "cell_type": "markdown",
      "source": [
        "**PRACTICAL 57**\n",
        "\n",
        "**Join the list of strings into a single string.**"
      ],
      "metadata": {
        "id": "OoVO0ChdhAdK"
      }
    },
    {
      "cell_type": "code",
      "source": [
        "y = (\"Hii\",\"My\",\"Name\",\"Is\",\"Rohan\")\n",
        "X = '_'.join(y)  # by using single coat we made a variable which can be used as a temporary storage\n",
        "print(X)"
      ],
      "metadata": {
        "colab": {
          "base_uri": "https://localhost:8080/"
        },
        "id": "BYc8c2vkhHby",
        "outputId": "1a001b0f-ad5c-4b8f-f73a-dc4327257034"
      },
      "execution_count": null,
      "outputs": [
        {
          "output_type": "stream",
          "name": "stdout",
          "text": [
            "Hii_My_Name_Is_Rohan\n"
          ]
        }
      ]
    },
    {
      "cell_type": "markdown",
      "source": [
        "**PRACTICAL 58**\n",
        "\n",
        "**Remove leading and trailing whitespace from a string.**"
      ],
      "metadata": {
        "id": "-yrgUONqiN0y"
      }
    },
    {
      "cell_type": "code",
      "source": [
        "x = \"      I AM KINGAY BRO         \"\n",
        "y = x.strip()\n",
        "print(y)"
      ],
      "metadata": {
        "id": "6Y-CDLDIiuVS",
        "colab": {
          "base_uri": "https://localhost:8080/"
        },
        "outputId": "ad19d028-8262-42a8-bea1-decd071aa07a"
      },
      "execution_count": null,
      "outputs": [
        {
          "output_type": "stream",
          "name": "stdout",
          "text": [
            "I AM KINGAY BRO\n"
          ]
        }
      ]
    },
    {
      "cell_type": "markdown",
      "source": [
        "**PRACTICAL 59**\n",
        "\n",
        "**Find the position of a substring inside a string.**"
      ],
      "metadata": {
        "id": "8KfQNjgA_IEB"
      }
    },
    {
      "cell_type": "code",
      "source": [
        "X = \"Yagnik is a good boy\"\n",
        "y = X.find(\"good\")\n",
        "print(y)"
      ],
      "metadata": {
        "colab": {
          "base_uri": "https://localhost:8080/"
        },
        "id": "H9a6m1WY_b9_",
        "outputId": "8fff2f9c-09e9-4d0f-dcc7-221f982ad40b"
      },
      "execution_count": null,
      "outputs": [
        {
          "output_type": "stream",
          "name": "stdout",
          "text": [
            "12\n"
          ]
        }
      ]
    },
    {
      "cell_type": "markdown",
      "source": [
        "**PRACTICAL 60**\n",
        "\n",
        "**Create a 1D Numpy array of 10 numbers**"
      ],
      "metadata": {
        "id": "C3ubBCfmRAHW"
      }
    },
    {
      "cell_type": "code",
      "source": [
        "import numpy as np\n",
        "x = [1,2,3,4,5,6,7,8,9,10]\n",
        "y = np.array(x)\n",
        "print(y)"
      ],
      "metadata": {
        "colab": {
          "base_uri": "https://localhost:8080/"
        },
        "id": "ToVWWS1SRkK4",
        "outputId": "70e1206e-af36-4844-8609-433f7a6e3a0d"
      },
      "execution_count": null,
      "outputs": [
        {
          "output_type": "stream",
          "name": "stdout",
          "text": [
            "[ 1  2  3  4  5  6  7  8  9 10]\n"
          ]
        }
      ]
    },
    {
      "cell_type": "markdown",
      "source": [
        "**PRACTICAL 61**\n",
        "\n",
        "**Create a 2D Numpy Array (3x3 matrix)**"
      ],
      "metadata": {
        "id": "t7YjHTLQSJfi"
      }
    },
    {
      "cell_type": "code",
      "source": [
        "import numpy as np\n",
        "x = [[1,2,3],[4,5,6],[7,8,9]]\n",
        "for i in x:\n",
        "   print(i)\n",
        "print(\"\\n\")"
      ],
      "metadata": {
        "colab": {
          "base_uri": "https://localhost:8080/"
        },
        "id": "Bz51UtZJSTUW",
        "outputId": "a90149f7-25ed-4ad1-c307-59c6d40c5ba3"
      },
      "execution_count": null,
      "outputs": [
        {
          "output_type": "stream",
          "name": "stdout",
          "text": [
            "[1, 2, 3]\n",
            "[4, 5, 6]\n",
            "[7, 8, 9]\n",
            "\n",
            "\n"
          ]
        }
      ]
    },
    {
      "cell_type": "markdown",
      "source": [
        "**PRACTICAL 62**\n",
        "\n",
        "**Perform element-wise addition of two arrays.**"
      ],
      "metadata": {
        "id": "QOEOF5PRSoeE"
      }
    },
    {
      "cell_type": "code",
      "source": [
        "x = [1,2,3,4,5]\n",
        "y = [5,6,7,8,9]\n",
        "z = np.sum(x + y)\n",
        "print(z)"
      ],
      "metadata": {
        "colab": {
          "base_uri": "https://localhost:8080/"
        },
        "id": "JDss2qkvUIDI",
        "outputId": "b03af0ae-75b3-4079-ea6a-738b9116c67f"
      },
      "execution_count": null,
      "outputs": [
        {
          "output_type": "stream",
          "name": "stdout",
          "text": [
            "50\n"
          ]
        }
      ]
    },
    {
      "cell_type": "markdown",
      "source": [
        "63. Calculate the mean of elements in a NumPy array."
      ],
      "metadata": {
        "id": "0fqNPir_T5az"
      }
    },
    {
      "cell_type": "code",
      "source": [
        "\n",
        "y = [5,6,7,8,9]\n",
        "z = np.mean(y)\n",
        "print(z)"
      ],
      "metadata": {
        "colab": {
          "base_uri": "https://localhost:8080/"
        },
        "id": "O55ClsxFUIl2",
        "outputId": "53aff7e6-137f-476b-9daa-1ac46830f4fc"
      },
      "execution_count": null,
      "outputs": [
        {
          "output_type": "stream",
          "name": "stdout",
          "text": [
            "7.0\n"
          ]
        }
      ]
    },
    {
      "cell_type": "markdown",
      "source": [
        "64. Find the maximum and minimum values in an array."
      ],
      "metadata": {
        "id": "PaCnEtl2T5Pn"
      }
    },
    {
      "cell_type": "code",
      "source": [
        "x = [1,2,3,4,5]\n",
        "y = [5,6,7,8,9]\n",
        "\n",
        "# for max\n",
        "z = np.max(y)\n",
        "# for min\n",
        "a = np.min(x)\n",
        "\n",
        "print(z)\n",
        "print(a)"
      ],
      "metadata": {
        "colab": {
          "base_uri": "https://localhost:8080/"
        },
        "id": "mW76s9vpUJEf",
        "outputId": "0eabac4b-e3d0-4667-e0bf-4fae7d64d082"
      },
      "execution_count": null,
      "outputs": [
        {
          "output_type": "stream",
          "name": "stdout",
          "text": [
            "9\n",
            "1\n"
          ]
        }
      ]
    },
    {
      "cell_type": "markdown",
      "source": [
        "**PRACTICAL 65**\n",
        "\n",
        "**Reshape a 1D array into 2D.**"
      ],
      "metadata": {
        "id": "Ssh3BKwuUJeI"
      }
    },
    {
      "cell_type": "code",
      "source": [
        "x = [1,2,3,4,5,6,7,8,9,10]\n",
        "z = np.array(x)\n",
        "y = z.reshape(5,2)\n",
        "print(y)"
      ],
      "metadata": {
        "colab": {
          "base_uri": "https://localhost:8080/"
        },
        "id": "T4sElMDSUL91",
        "outputId": "14e9d550-cb7b-4045-bd92-8c6d918ed52d"
      },
      "execution_count": null,
      "outputs": [
        {
          "output_type": "stream",
          "name": "stdout",
          "text": [
            "[[ 1  2]\n",
            " [ 3  4]\n",
            " [ 5  6]\n",
            " [ 7  8]\n",
            " [ 9 10]]\n"
          ]
        }
      ]
    },
    {
      "cell_type": "markdown",
      "source": [
        "**PRACTICAL 66**\n",
        "\n",
        "**Perform dot product of two arrays.**"
      ],
      "metadata": {
        "id": "8N7txpyOgwkQ"
      }
    },
    {
      "cell_type": "code",
      "source": [
        "x = [1,2,3,4,5]\n",
        "y = [5,6,7,8,9]\n",
        "X = np.array(x)\n",
        "Y = np.array(y)\n",
        "z = np.dot(x,y)\n",
        "print(z)"
      ],
      "metadata": {
        "colab": {
          "base_uri": "https://localhost:8080/"
        },
        "id": "m4LcUxExhQjy",
        "outputId": "901081da-ddff-4036-d159-bff1fe08cc46"
      },
      "execution_count": null,
      "outputs": [
        {
          "output_type": "stream",
          "name": "stdout",
          "text": [
            "115\n"
          ]
        }
      ]
    },
    {
      "cell_type": "markdown",
      "source": [
        "\n",
        "**PRACTICAL 67**\n",
        "\n",
        "**Create an array of zeros and ones.**"
      ],
      "metadata": {
        "id": "6p7p4pdTg5in"
      }
    },
    {
      "cell_type": "code",
      "source": [
        "num_0 = np.zeros(5)\n",
        "num_1 = np.ones(5)\n",
        "print(num_0)\n",
        "print(num_1)"
      ],
      "metadata": {
        "colab": {
          "base_uri": "https://localhost:8080/"
        },
        "id": "jZstq8nshRJy",
        "outputId": "333af7d2-b91d-4abc-cd53-29285a68c98b"
      },
      "execution_count": null,
      "outputs": [
        {
          "output_type": "stream",
          "name": "stdout",
          "text": [
            "[0. 0. 0. 0. 0.]\n",
            "[1. 1. 1. 1. 1.]\n"
          ]
        }
      ]
    },
    {
      "cell_type": "markdown",
      "source": [
        "\n",
        "**PRACTICAL 68**\n",
        "\n",
        "**Extract a subarray using slicing.**"
      ],
      "metadata": {
        "id": "ZIZN_z3yg8CL"
      }
    },
    {
      "cell_type": "code",
      "source": [
        "x = [1,2,3,4,5,6,7,8,9,10]\n",
        "z = np.array(x)\n",
        "y = z[2:5]\n",
        "print(y)\n",
        "print(type(y))"
      ],
      "metadata": {
        "colab": {
          "base_uri": "https://localhost:8080/"
        },
        "id": "OBtzEP5phRnr",
        "outputId": "94cff536-f93a-41ac-9272-c4044d314a80"
      },
      "execution_count": null,
      "outputs": [
        {
          "output_type": "stream",
          "name": "stdout",
          "text": [
            "[3 4 5]\n",
            "<class 'numpy.ndarray'>\n"
          ]
        }
      ]
    },
    {
      "cell_type": "markdown",
      "source": [
        "\n",
        "**PRACTICAL 69**\n",
        "\n",
        "**Find the standard deviation of array elements.**"
      ],
      "metadata": {
        "id": "PWdWlH3yg-QO"
      }
    },
    {
      "cell_type": "code",
      "source": [
        "x = [1,2,3,4,5,6,7,8,9,10]\n",
        "z = np.std(x)\n",
        "print(z)"
      ],
      "metadata": {
        "id": "ejqJR6MNhSE2",
        "colab": {
          "base_uri": "https://localhost:8080/"
        },
        "outputId": "88e8d316-37f5-4020-ae4d-2b479e1779a6"
      },
      "execution_count": null,
      "outputs": [
        {
          "output_type": "stream",
          "name": "stdout",
          "text": [
            "2.8722813232690143\n"
          ]
        }
      ]
    },
    {
      "cell_type": "markdown",
      "source": [
        "**PRACTICAL 70**\n",
        "\n",
        "**Create a DataFrame from a dictionary.**"
      ],
      "metadata": {
        "id": "XPQHDNkHlKJl"
      }
    },
    {
      "cell_type": "code",
      "source": [
        "import pandas as pd\n",
        "my_dict = {\n",
        "    \"Name\" : [\"Rohan\",\"Mayank\",\"Akshay\",\"Akshat\",\"Hemang\",\"Dhruvil\"],\n",
        "    \"Marks\" : [45,48,42,32,56,24]\n",
        "}\n",
        "print(\"After making dataframe of the dictionary the dictonary looks like :\")\n",
        "\n",
        "df = pd.DataFrame(my_dict)\n",
        "print(df)"
      ],
      "metadata": {
        "colab": {
          "base_uri": "https://localhost:8080/"
        },
        "id": "4FmxE9SBWJfe",
        "outputId": "ab73c096-c59e-4c90-d645-32da1b933333"
      },
      "execution_count": null,
      "outputs": [
        {
          "output_type": "stream",
          "name": "stdout",
          "text": [
            "After making dataframe of the dictionary the dictonary looks like :\n",
            "      Name  Marks\n",
            "0    Rohan     45\n",
            "1   Mayank     48\n",
            "2   Akshay     42\n",
            "3   Akshat     32\n",
            "4   Hemang     56\n",
            "5  Dhruvil     24\n"
          ]
        }
      ]
    },
    {
      "cell_type": "markdown",
      "source": [
        "**PRACTICAL 71**\n",
        "\n",
        "**Read data from a CSV file into a DataFrame.**"
      ],
      "metadata": {
        "id": "GdA8E3YllsJ0"
      }
    },
    {
      "cell_type": "code",
      "source": [
        "import pandas as pd\n",
        "read = pd.read_csv('marksheet.csv')\n",
        "print(read.head())"
      ],
      "metadata": {
        "colab": {
          "base_uri": "https://localhost:8080/"
        },
        "id": "mWUDV4QMBeWX",
        "outputId": "1952d471-d1ed-4319-ec3e-2e6dcc715249"
      },
      "execution_count": null,
      "outputs": [
        {
          "output_type": "stream",
          "name": "stdout",
          "text": [
            "   id     Name  Gender  Age Section  Science  English  History  Maths\n",
            "0   1  Bronnie  Female   13       C       21       81       62     49\n",
            "1   2   Lemmie    Male   15       B       29       41       17     40\n",
            "2   3    Danya  Female   14       C       12       87       16     96\n",
            "3   4    Denna  Female   14       B       15       53       82     33\n",
            "4   5  Jocelin    Male   14       A       43        6        3     21\n"
          ]
        }
      ]
    },
    {
      "cell_type": "markdown",
      "source": [
        "**PRACTICAL 72**\n",
        "\n",
        "**Select a column from a DataFrame.**"
      ],
      "metadata": {
        "id": "s6-IR5RPH6XQ"
      }
    },
    {
      "cell_type": "code",
      "source": [
        "import pandas as pd\n",
        "read = pd.read_csv('marksheet.csv')\n",
        "read1 = pd.DataFrame(read)\n",
        "History = read1['History']\n",
        "print(History.head(6))"
      ],
      "metadata": {
        "colab": {
          "base_uri": "https://localhost:8080/"
        },
        "id": "wdZ8VNdUIAeH",
        "outputId": "2818be72-d0d7-40e0-eb08-d39c30332052"
      },
      "execution_count": null,
      "outputs": [
        {
          "output_type": "stream",
          "name": "stdout",
          "text": [
            "0    62\n",
            "1    17\n",
            "2    16\n",
            "3    82\n",
            "4     3\n",
            "5    85\n",
            "Name: History, dtype: int64\n"
          ]
        }
      ]
    },
    {
      "cell_type": "markdown",
      "source": [
        "**PRACTICAL 73**\n",
        "\n",
        "**Filter rows based on a condition.**"
      ],
      "metadata": {
        "id": "BZk9QPsGJwFC"
      }
    },
    {
      "cell_type": "code",
      "source": [
        "maths = read1[read1['Maths']>80]\n",
        "print(maths.head())"
      ],
      "metadata": {
        "colab": {
          "base_uri": "https://localhost:8080/"
        },
        "id": "ockwjdX2J4Fw",
        "outputId": "1c2f41ec-4f04-4625-ed82-a4a8f1e1cb98"
      },
      "execution_count": null,
      "outputs": [
        {
          "output_type": "stream",
          "name": "stdout",
          "text": [
            "    id     Name  Gender  Age Section  Science  English  History  Maths\n",
            "2    3    Danya  Female   14       C       12       87       16     96\n",
            "10  11     Dunn    Male   15       C      100       93       87     81\n",
            "13  14   Gracie  Female   13       B       93       38       39     93\n",
            "21  22  Benoite    Male   14       B        3       55       14     90\n",
            "23  24    Valma  Female   14       C       48       83       79     95\n"
          ]
        }
      ]
    },
    {
      "cell_type": "markdown",
      "source": [
        "**PRACTICAL 74**\n",
        "\n",
        "**Sort DataFrame by a column.**"
      ],
      "metadata": {
        "id": "QZ5w-XQBKgrV"
      }
    },
    {
      "cell_type": "code",
      "source": [
        "import pandas as pd\n",
        "data = pd.read_csv('/content/drive/MyDrive/marksheet.csv')\n",
        "colm = data['Name']\n",
        "print(colm.head())"
      ],
      "metadata": {
        "colab": {
          "base_uri": "https://localhost:8080/"
        },
        "id": "fbaKw2TwGsyH",
        "outputId": "00860c9f-230c-4efc-aa2f-6c4b7bdb2401"
      },
      "execution_count": null,
      "outputs": [
        {
          "output_type": "stream",
          "name": "stdout",
          "text": [
            "0    Bronnie\n",
            "1     Lemmie\n",
            "2      Danya\n",
            "3      Denna\n",
            "4    Jocelin\n",
            "Name: Name, dtype: object\n"
          ]
        }
      ]
    },
    {
      "cell_type": "markdown",
      "source": [
        "\n",
        "**PRACTICAL 75**\n",
        "\n",
        "**Add a new column to a DataFrame.**"
      ],
      "metadata": {
        "id": "AaHwrHoUMU-d"
      }
    },
    {
      "cell_type": "code",
      "source": [
        "import pandas as pd\n",
        "my_dict = {\n",
        "    \"Name\" : [\"Rohan\",\"Mayank\",\"Akshay\",\"Akshat\",\"Hemang\",\"Dhruvil\"],\n",
        "    \"Marks\" : [45,48,42,32,56,24]\n",
        "}\n",
        "print(\"BEFORE ADDING COLUMN :\")\n",
        "df = pd.DataFrame(my_dict)\n",
        "print(df)\n",
        "print(\"--------------\")\n",
        "print(\"AFTER ADDING COLUMN :\")\n",
        "my_dict.update({\"Grades\" : [\"A\",\"A\",\"B\",\"C\",\"A\",\"D\"]})\n",
        "ff = pd.DataFrame(my_dict)\n",
        "print(ff)"
      ],
      "metadata": {
        "id": "N2nBK6CINxrn",
        "colab": {
          "base_uri": "https://localhost:8080/"
        },
        "outputId": "1328a423-6b46-4974-a286-52f01ef53b6f"
      },
      "execution_count": null,
      "outputs": [
        {
          "output_type": "stream",
          "name": "stdout",
          "text": [
            "BEFORE ADDING COLUMN :\n",
            "      Name  Marks\n",
            "0    Rohan     45\n",
            "1   Mayank     48\n",
            "2   Akshay     42\n",
            "3   Akshat     32\n",
            "4   Hemang     56\n",
            "5  Dhruvil     24\n",
            "--------------\n",
            "AFTER ADDING COLUMN :\n",
            "      Name  Marks Grades\n",
            "0    Rohan     45      A\n",
            "1   Mayank     48      A\n",
            "2   Akshay     42      B\n",
            "3   Akshat     32      C\n",
            "4   Hemang     56      A\n",
            "5  Dhruvil     24      D\n"
          ]
        }
      ]
    },
    {
      "cell_type": "markdown",
      "source": [
        "**PRACTICAL 76**\n",
        "\n",
        "**Drop a column from a DataFrame.**"
      ],
      "metadata": {
        "id": "z0zMvrWNbSOr"
      }
    },
    {
      "cell_type": "code",
      "source": [
        "import pandas as pd\n",
        "my_dict = {\n",
        "    \"Name\" : [\"Rohan\",\"Mayank\",\"Akshay\",\"Akshat\",\"Hemang\",\"Dhruvil\"],\n",
        "    \"Marks\" : [45,48,42,32,56,24]\n",
        "}\n",
        "my_dict.update({\"Grades\" : [\"A\",\"A\",\"B\",\"C\",\"A\",\"D\"]})\n",
        "print(\"Before Dropping the Column from the dataframe :\")\n",
        "print(pd.DataFrame(my_dict))\n",
        "print('----------------------')\n",
        "print(\"After Dropping Marks Column for the database :\")\n",
        "my_dict.pop(\"Marks\")\n",
        "print(pd.DataFrame(my_dict))"
      ],
      "metadata": {
        "colab": {
          "base_uri": "https://localhost:8080/"
        },
        "id": "_X5K--e7IhiQ",
        "outputId": "23606dc5-7ca2-4fe9-ab5f-549ce88c4528"
      },
      "execution_count": null,
      "outputs": [
        {
          "output_type": "stream",
          "name": "stdout",
          "text": [
            "Before Dropping the Column from the dataframe :\n",
            "      Name  Marks Grades\n",
            "0    Rohan     45      A\n",
            "1   Mayank     48      A\n",
            "2   Akshay     42      B\n",
            "3   Akshat     32      C\n",
            "4   Hemang     56      A\n",
            "5  Dhruvil     24      D\n",
            "----------------------\n",
            "After Dropping Marks Column for the database :\n",
            "      Name Grades\n",
            "0    Rohan      A\n",
            "1   Mayank      A\n",
            "2   Akshay      B\n",
            "3   Akshat      C\n",
            "4   Hemang      A\n",
            "5  Dhruvil      D\n"
          ]
        }
      ]
    },
    {
      "cell_type": "markdown",
      "source": [
        "**PRACTICAL 77**\n",
        "\n",
        "**Group data by a column and calculate mean.**"
      ],
      "metadata": {
        "id": "qCe-phYnKSXO"
      }
    },
    {
      "cell_type": "code",
      "source": [
        "import pandas as pd\n",
        "data = pd.read_csv('marksheet.csv')\n",
        "print(data.head())\n",
        "print(\"This is the Data Frame of an data\\nWe will find the mean of one subject\")\n",
        "History = data['History']\n",
        "print(f\"The Mean value of History is {History.mean()} .\")\n"
      ],
      "metadata": {
        "colab": {
          "base_uri": "https://localhost:8080/"
        },
        "id": "QShsmi5oKmX7",
        "outputId": "b7cec21a-407a-44de-fb67-9733bdeb0ab8"
      },
      "execution_count": null,
      "outputs": [
        {
          "output_type": "stream",
          "name": "stdout",
          "text": [
            "   id     Name  Gender  Age Section  Science  English  History  Maths\n",
            "0   1  Bronnie  Female   13       C       21       81       62     49\n",
            "1   2   Lemmie    Male   15       B       29       41       17     40\n",
            "2   3    Danya  Female   14       C       12       87       16     96\n",
            "3   4    Denna  Female   14       B       15       53       82     33\n",
            "4   5  Jocelin    Male   14       A       43        6        3     21\n",
            "This is the Data Frame of an data\n",
            "We will find the mean of one subject\n",
            "The Mean value of History is 52.272 .\n"
          ]
        }
      ]
    },
    {
      "cell_type": "markdown",
      "source": [
        "**PRACTICAL 78**\n",
        "\n",
        "**Handle missing values in a DataFrame.**"
      ],
      "metadata": {
        "id": "KMqsVHYlN1Xc"
      }
    },
    {
      "cell_type": "code",
      "source": [
        "import pandas as pd\n",
        "data = pd.read_csv('Flipkart_data.csv')\n",
        "print(\"------------------------------\")\n",
        "print(\"BEFORE HANDLING NULL VALUES : \")\n",
        "print(\"------------------------------\")\n",
        "print(data.head())\n",
        "print(\"------------------------------\")\n",
        "print(\"AFTER HANDLING NULL VALUES : \")\n",
        "print(\"------------------------------\")\n",
        "filler = data.fillna(\"NULL\")\n",
        "print(filler.head())"
      ],
      "metadata": {
        "colab": {
          "base_uri": "https://localhost:8080/"
        },
        "id": "ZvNycjgzN50j",
        "outputId": "52127b7f-64e9-4a86-916b-7fd8fe5d10eb"
      },
      "execution_count": null,
      "outputs": [
        {
          "output_type": "stream",
          "name": "stdout",
          "text": [
            "------------------------------\n",
            "BEFORE HANDLING NULL VALUES : \n",
            "------------------------------\n",
            "  Brand Model            Color Memory Storage  Rating  Selling Price  \\\n",
            "0  OPPO   A53  Moonlight Black    NaN   64 GB     4.5        11990.0   \n",
            "1  OPPO   A53       Mint Cream   4 GB   64 GB     4.5        11990.0   \n",
            "2  OPPO   A53  Moonlight Black   6 GB     NaN     4.3        13990.0   \n",
            "3  OPPO   NaN       Mint Cream   6 GB  128 GB     4.3            NaN   \n",
            "4  OPPO   A53   Electric Black    NaN   64 GB     4.5        11990.0   \n",
            "\n",
            "   Original Price  \n",
            "0         15990.0  \n",
            "1         15990.0  \n",
            "2             NaN  \n",
            "3         17990.0  \n",
            "4         15990.0  \n",
            "------------------------------\n",
            "AFTER HANDLING NULL VALUES : \n",
            "------------------------------\n",
            "  Brand Model            Color Memory Storage Rating Selling Price  \\\n",
            "0  OPPO   A53  Moonlight Black   NULL   64 GB    4.5       11990.0   \n",
            "1  OPPO   A53       Mint Cream   4 GB   64 GB    4.5       11990.0   \n",
            "2  OPPO   A53  Moonlight Black   6 GB    NULL    4.3       13990.0   \n",
            "3  OPPO  NULL       Mint Cream   6 GB  128 GB    4.3          NULL   \n",
            "4  OPPO   A53   Electric Black   NULL   64 GB    4.5       11990.0   \n",
            "\n",
            "  Original Price  \n",
            "0        15990.0  \n",
            "1        15990.0  \n",
            "2           NULL  \n",
            "3        17990.0  \n",
            "4        15990.0  \n"
          ]
        }
      ]
    },
    {
      "cell_type": "markdown",
      "source": [
        "**PRACTICAL 79**\n",
        "\n",
        "**Save a DataFrame to a CSV file.**"
      ],
      "metadata": {
        "id": "Sp5UXr72SB_2"
      }
    },
    {
      "cell_type": "code",
      "source": [
        "import pandas as pd\n",
        "my_dict = {\n",
        "    \"Name\" : [\"Rohan\",\"Mayank\",\"Akshay\",\"Akshat\",\"Hemang\",\"Dhruvil\"],\n",
        "    \"Marks\" : [45,48,42,32,56,24],\n",
        "    \"Grades\" : [\"A\",\"A\",\"B\",\"C\",\"A\",\"D\"]\n",
        "}\n",
        "df = pd.DataFrame(my_dict)\n",
        "df.to_excel('AimlMarksheet.xlsx', index = False)\n",
        "# FOR TRANSFER THE FILE FROM SSD TO DRIVE\n",
        "import shutil as sh\n",
        "sh.move('/content/AimlMarksheet.xlsx','/content/drive/MyDrive')"
      ],
      "metadata": {
        "colab": {
          "base_uri": "https://localhost:8080/",
          "height": 35
        },
        "id": "RGjiu_yHScvM",
        "outputId": "2cc2a246-8d0d-432f-e9b8-2cdcfddd6992"
      },
      "execution_count": null,
      "outputs": [
        {
          "output_type": "execute_result",
          "data": {
            "text/plain": [
              "'/content/drive/MyDrive/AimlMarksheet.xlsx'"
            ],
            "application/vnd.google.colaboratory.intrinsic+json": {
              "type": "string"
            }
          },
          "metadata": {},
          "execution_count": 31
        }
      ]
    },
    {
      "cell_type": "markdown",
      "source": [
        "**PRACTICAL 80**\n",
        "\n",
        "**Plot a line graph of student scores.**"
      ],
      "metadata": {
        "id": "8pRZPXi-WVl_"
      }
    },
    {
      "cell_type": "code",
      "source": [
        "import matplotlib.pyplot as plt\n",
        "X = [\"Rohan\",\"Atif\",\"Hemang\",\"Mayank\",\"Akshay\"]\n",
        "Y = [9.21,6.53,7.67,8.84,7.05]\n",
        "plt.title(\"Students CPI of 1st Year\")\n",
        "plt.plot(X,Y,label = 'CPI',marker = 'D')\n",
        "plt.xlabel(\"STUDENTS NAME ---->\")\n",
        "plt.ylabel(\"CPI OF STUDENTS---->\")\n",
        "plt.legend()\n",
        "plt.show()"
      ],
      "metadata": {
        "colab": {
          "base_uri": "https://localhost:8080/",
          "height": 472
        },
        "id": "o4dpbFS9Wvsa",
        "outputId": "7b2eef10-1aa9-48ca-8b6a-04f989a1d209"
      },
      "execution_count": null,
      "outputs": [
        {
          "output_type": "display_data",
          "data": {
            "text/plain": [
              "<Figure size 640x480 with 1 Axes>"
            ],
            "image/png": "[encoded data removed]"
          },
          "metadata": {}
        }
      ]
    },
    {
      "cell_type": "markdown",
      "source": [
        "**PRACTICAL 81**\n",
        "\n",
        "**Plot a bar chart of student attendance.**"
      ],
      "metadata": {
        "id": "e5VanFWZabr9"
      }
    },
    {
      "cell_type": "code",
      "source": [
        "import matplotlib.pyplot as plt\n",
        "X = [\"Rohan\",\"Hemang\",\"Khush\",\"Shubham\",\"Mayank\",\"Akshay\"]\n",
        "Y = [69,48,85,62,86,15]\n",
        "plt.grid(False)\n",
        "plt.title(\"STUDENTS ATTENDANCE\")\n",
        "plt.bar(X,Y)\n",
        "plt.xlabel(\"Students Name ---->\")\n",
        "plt.ylabel(\"Students Attendance in %\")\n",
        "plt.legend()\n",
        "plt.show()"
      ],
      "metadata": {
        "colab": {
          "base_uri": "https://localhost:8080/",
          "height": 527
        },
        "id": "4PwqIsC5gLmo",
        "outputId": "fa1de14b-154f-49e5-c68d-d0e03e8eb3c0"
      },
      "execution_count": null,
      "outputs": [
        {
          "output_type": "stream",
          "name": "stderr",
          "text": [
            "/tmp/ipython-input-3650277087.py:9: UserWarning: No artists with labels found to put in legend.  Note that artists whose label start with an underscore are ignored when legend() is called with no argument.\n",
            "  plt.legend()\n"
          ]
        },
        {
          "output_type": "display_data",
          "data": {
            "text/plain": [
              "<Figure size 640x480 with 1 Axes>"
            ],
            "image/png": "[encoded data removed]"
          },
          "metadata": {}
        }
      ]
    },
    {
      "cell_type": "markdown",
      "source": [
        "**PRACTICAL 82**\n",
        "\n",
        "**Plot a histogram of student marks.**"
      ],
      "metadata": {
        "id": "V8Qg-Bwoh71H"
      }
    },
    {
      "cell_type": "code",
      "source": [
        "import matplotlib.pyplot as plt\n",
        "Y = [29,30,25,22,26,45,43,41,11,12,75,56,25]\n",
        "plt.hist(Y,bins=12,label= 'Marks')\n",
        "plt.legend()\n",
        "plt.show()"
      ],
      "metadata": {
        "colab": {
          "base_uri": "https://localhost:8080/",
          "height": 430
        },
        "id": "PzrvDjgciCfp",
        "outputId": "c2463bb8-c7c9-48fe-eb98-f9a4065e5c20"
      },
      "execution_count": null,
      "outputs": [
        {
          "output_type": "display_data",
          "data": {
            "text/plain": [
              "<Figure size 640x480 with 1 Axes>"
            ],
            "image/png": "[encoded data removed]"
          },
          "metadata": {}
        }
      ]
    },
    {
      "cell_type": "markdown",
      "source": [
        "**PRACTICAL 83**\n",
        "\n",
        "**Create a scatter plot of two variables.**"
      ],
      "metadata": {
        "id": "FyLzujzJjcGf"
      }
    },
    {
      "cell_type": "code",
      "source": [
        "import matplotlib.pyplot as plt\n",
        "X = [\"Rohan\",\"Hemang\",\"Khush\",\"Shubham\",\"Mayank\",\"Akshay\"]\n",
        "Y = [69,48,85,62,86,15]\n",
        "plt.scatter(X,Y,label = 'Attendance',marker = 'D',color = 'Green')\n",
        "plt.legend()\n",
        "plt.show()"
      ],
      "metadata": {
        "colab": {
          "base_uri": "https://localhost:8080/",
          "height": 430
        },
        "id": "00gSjZsIjhbW",
        "outputId": "28e31e85-bb45-463a-884e-7a95e46cd018"
      },
      "execution_count": null,
      "outputs": [
        {
          "output_type": "display_data",
          "data": {
            "text/plain": [
              "<Figure size 640x480 with 1 Axes>"
            ],
            "image/png": "[encoded data removed]"
          },
          "metadata": {}
        }
      ]
    },
    {
      "cell_type": "markdown",
      "source": [
        "**PRACTICAL 84**\n",
        "\n",
        "**Add title and labels to a plot.**"
      ],
      "metadata": {
        "id": "R4KlHyVTkNHh"
      }
    },
    {
      "cell_type": "code",
      "source": [
        "# customised line graph :-\n",
        "import matplotlib.pyplot as plt\n",
        "\n",
        "a = [1,2,3,4,5,6,7,8,9,10]\n",
        "b = [11,12,15,14,20,18,19,30,52,45]\n",
        "c = [1,2,3,4,5,6,7,8,9,10]\n",
        "d = [11,12,13,22,15,18,10,20,52,45]\n",
        "plt.plot(a,b,label= \"Company Profit\",color = \"green\")\n",
        "plt.plot(c,d,label= \"Company Loss\",color = \"red\")\n",
        "plt.title(\"customised Line Graph\")\n",
        "plt.xlabel(\"a\")\n",
        "plt.ylabel(\"b\")\n",
        "plt.legend()\n",
        "plt.grid(True)\n",
        "plt.show()"
      ],
      "metadata": {
        "colab": {
          "base_uri": "https://localhost:8080/",
          "height": 472
        },
        "id": "kauWj1SJkUqe",
        "outputId": "742c49bb-4dbe-4439-fe37-08b49c0d28cd"
      },
      "execution_count": null,
      "outputs": [
        {
          "output_type": "display_data",
          "data": {
            "text/plain": [
              "<Figure size 640x480 with 1 Axes>"
            ],
            "image/png": "[encoded data removed]"
          },
          "metadata": {}
        }
      ]
    },
    {
      "cell_type": "markdown",
      "source": [
        "**PRACTICAL 85**\n",
        "\n",
        "**Change line style and color in a plot.**"
      ],
      "metadata": {
        "id": "db-zS5Itlz7q"
      }
    },
    {
      "cell_type": "code",
      "source": [
        "import matplotlib.pyplot as plt\n",
        "X = [\"Rohan\",\"Atif\",\"Hemang\",\"Mayank\",\"Akshay\"]\n",
        "Y = [9.21,6.53,7.67,8.84,7.05]\n",
        "plt.title(\"Students CPI of 1st Year\")\n",
        "plt.plot(X,Y,label = 'CPI',marker = 'o',linestyle= '--',color = 'Black')\n",
        "plt.xlabel(\"STUDENTS NAME ---->\")\n",
        "plt.ylabel(\"CPI OF STUDENTS---->\")\n",
        "plt.legend()\n",
        "plt.show()"
      ],
      "metadata": {
        "colab": {
          "base_uri": "https://localhost:8080/",
          "height": 472
        },
        "id": "xbnnBKRymEvl",
        "outputId": "d67c1f3b-00bc-4af5-8cb8-6c1df888ccf2"
      },
      "execution_count": null,
      "outputs": [
        {
          "output_type": "display_data",
          "data": {
            "text/plain": [
              "<Figure size 640x480 with 1 Axes>"
            ],
            "image/png": "[encoded data removed]"
          },
          "metadata": {}
        }
      ]
    },
    {
      "cell_type": "markdown",
      "source": [
        "**PRATICAL 86**\n",
        "\n",
        "**Plot multiple lines on the same graph.**"
      ],
      "metadata": {
        "id": "F_XpY7Zimky2"
      }
    },
    {
      "cell_type": "code",
      "source": [
        "# customised line graph :-\n",
        "import matplotlib.pyplot as plt\n",
        "\n",
        "a = [1,2,3,4,5,6,7,8,9,10]\n",
        "b = [11,12,15,14,20,18,19,30,52,45]\n",
        "c = [1,2,3,6,1,2,4,6,4]\n",
        "d = [11,12,13,22,15,18,10,20,52,45]\n",
        "plt.plot(a,b,label= \"Company Profit\",color = \"green\")\n",
        "plt.plot(c,label= \"Company Loss\",color = \"red\")\n",
        "plt.plot(b,label=\"Average Buying\",color = 'Violet',marker= '4')\n",
        "plt.title(\"customised Line Graph\")\n",
        "plt.xlabel(\"Share holders\")\n",
        "plt.ylabel(\"Share stock\")\n",
        "plt.legend()\n",
        "plt.grid(True)\n",
        "plt.show()"
      ],
      "metadata": {
        "colab": {
          "base_uri": "https://localhost:8080/",
          "height": 472
        },
        "id": "_2fIL7RymtQS",
        "outputId": "2291c6ac-dd40-417f-f477-7cf06e7db871"
      },
      "execution_count": null,
      "outputs": [
        {
          "output_type": "display_data",
          "data": {
            "text/plain": [
              "<Figure size 640x480 with 1 Axes>"
            ],
            "image/png": "[encoded data removed]"
          },
          "metadata": {}
        }
      ]
    },
    {
      "cell_type": "markdown",
      "source": [
        "**PRACTICAL 87**\n",
        "\n",
        "**Create a pie chart of grade distribution.**"
      ],
      "metadata": {
        "id": "UoJn8grOnkSm"
      }
    },
    {
      "cell_type": "code",
      "source": [
        "import matplotlib.pyplot as plt\n",
        "X = [\"Rohan\",\"Atif\",\"Hemang\",\"Mayank\",\"Akshay\"]\n",
        "Y = [9.21,6.53,7.67,8.84,7.05]\n",
        "plt.pie(Y,labels = X,autopct='%1.2f%%')\n",
        "plt.show()"
      ],
      "metadata": {
        "colab": {
          "base_uri": "https://localhost:8080/",
          "height": 406
        },
        "id": "xeytVVbrnri2",
        "outputId": "ca66fc5b-ee44-4811-a064-bf7762c48b24"
      },
      "execution_count": null,
      "outputs": [
        {
          "output_type": "display_data",
          "data": {
            "text/plain": [
              "<Figure size 640x480 with 1 Axes>"
            ],
            "image/png": "[encoded data removed]"
          },
          "metadata": {}
        }
      ]
    },
    {
      "cell_type": "markdown",
      "source": [
        "**PRACTICAL 88**\n",
        "\n",
        "**Save a plot as an image file.**"
      ],
      "metadata": {
        "id": "2yn27ksjptuk"
      }
    },
    {
      "cell_type": "code",
      "source": [
        "# FOR SAVING PLOTS TO IMAGE\n",
        "import matplotlib.pyplot as plt\n",
        "\n",
        "a = [1,2,3,4,5,6,7,8,9,10]\n",
        "b = [11,12,15,14,20,18,19,30,52,45]\n",
        "c = [1,2,3,6,1,2,4,6,4]\n",
        "d = [11,12,13,22,15,18,10,20,52,45]\n",
        "plt.plot(a,b,label= \"Company Profit\",color = \"green\")\n",
        "plt.plot(c,label= \"Company Loss\",color = \"red\")\n",
        "plt.plot(b,label=\"Average Buying\",color = 'Violet',marker= '4')\n",
        "plt.title(\"customised Line Graph\")\n",
        "plt.xlabel(\"Share holders\")\n",
        "plt.ylabel(\"Share stock\")\n",
        "plt.legend()\n",
        "plt.grid(True)\n",
        "plt.savefig('CompanyMarket.png', dpi = 300)\n",
        "plt.show()\n",
        "\n",
        "import shutil as sh\n",
        "sh.move('/content/CompanyMarket.png','/content/drive/MyDrive/Colab Notebooks')"
      ],
      "metadata": {
        "colab": {
          "base_uri": "https://localhost:8080/",
          "height": 490
        },
        "id": "x5lYRmVSqDCV",
        "outputId": "227c4ce5-3147-49b5-bad7-55d228c7ff86"
      },
      "execution_count": null,
      "outputs": [
        {
          "output_type": "display_data",
          "data": {
            "text/plain": [
              "<Figure size 640x480 with 1 Axes>"
            ],
            "image/png": "[encoded data removed]"
          },
          "metadata": {}
        },
        {
          "output_type": "execute_result",
          "data": {
            "text/plain": [
              "'/content/drive/MyDrive/Colab Notebooks/CompanyMarket.png'"
            ],
            "application/vnd.google.colaboratory.intrinsic+json": {
              "type": "string"
            }
          },
          "metadata": {},
          "execution_count": 2
        }
      ]
    },
    {
      "cell_type": "markdown",
      "source": [
        "**PRACTICAL 89**\n",
        "\n",
        "**Customize x and y axis ticks.**"
      ],
      "metadata": {
        "id": "uypOi-G7tOfH"
      }
    },
    {
      "cell_type": "code",
      "source": [
        "import matplotlib.pyplot as plt\n",
        "import numpy as np\n",
        "A = [1,2,3,4,5]\n",
        "B = [6,7,8,9,100]\n",
        "C = [1,12,13,14,15]\n",
        "D = [16,17,18,19,20]\n",
        "plt.plot(A,B,label= \"Loss\",color = \"red\")\n",
        "plt.plot(C,D,label= \"Profit\",color = \"blue\")\n",
        "listOf_Xticks = np.arange(0, 25, 5)\n",
        "plt.xticks(listOf_Xticks)\n",
        "listOf_Yticks = np.arange(0, 110, 10)\n",
        "plt.yticks(listOf_Yticks)\n",
        "plt.title(\"Customize\")\n",
        "plt.xlabel(\"A\")\n",
        "plt.ylabel(\"B\")\n",
        "plt.legend()\n",
        "plt.grid(True)\n",
        "plt.show()"
      ],
      "metadata": {
        "colab": {
          "base_uri": "https://localhost:8080/",
          "height": 472
        },
        "id": "KvQqtTaItW38",
        "outputId": "6af5bc79-af49-4b75-d2b2-6be878cda9bb"
      },
      "execution_count": null,
      "outputs": [
        {
          "output_type": "display_data",
          "data": {
            "text/plain": [
              "<Figure size 640x480 with 1 Axes>"
            ],
            "image/png": "[encoded data removed]"
          },
          "metadata": {}
        }
      ]
    },
    {
      "cell_type": "markdown",
      "source": [
        "**PRACTICAL 90**\n",
        "\n",
        "**Write a program that takes student marks (list) and plots\n",
        "grade distribution (matplotlib).**"
      ],
      "metadata": {
        "id": "qOwtIhjjufLc"
      }
    },
    {
      "cell_type": "code",
      "source": [
        "import matplotlib.pyplot as plt\n",
        "X = [29,25,18,12,30]\n",
        "Y = [\"Threat\",\"OSC\",\"DDI\",\"CSO\",\"FDS\"]\n",
        "print(type(X))\n",
        "plt.title(\"Hemang Marks\")\n",
        "plt.plot(X,Y,label=\"Marks\",marker='o',color='orange')\n",
        "plt.grid()\n",
        "plt.legend()\n",
        "plt.show()"
      ],
      "metadata": {
        "id": "w5v6MTuPcEo3",
        "colab": {
          "base_uri": "https://localhost:8080/",
          "height": 469
        },
        "outputId": "75da1a20-e057-402c-ed21-25051ec72284"
      },
      "execution_count": null,
      "outputs": [
        {
          "output_type": "stream",
          "name": "stdout",
          "text": [
            "<class 'list'>\n"
          ]
        },
        {
          "output_type": "display_data",
          "data": {
            "text/plain": [
              "<Figure size 640x480 with 1 Axes>"
            ],
            "image/png": "[encoded data removed]"
          },
          "metadata": {}
        }
      ]
    },
    {
      "cell_type": "markdown",
      "source": [
        "**PRACTICAL 91**\n",
        "\n",
        "**Use pandas to read student data and calculate average\n",
        "marks.**"
      ],
      "metadata": {
        "id": "BRzVUUzONbw6"
      }
    },
    {
      "cell_type": "code",
      "source": [
        "import pandas as pd\n",
        "import numpy as np\n",
        "read = pd.read_csv('/content/drive/MyDrive/marksheet.csv')\n",
        "ENG = read[\"English\"]\n",
        "marks = np.average(ENG)\n",
        "print(f\"The Average Marks in English of Students is {marks}\")"
      ],
      "metadata": {
        "colab": {
          "base_uri": "https://localhost:8080/"
        },
        "id": "Abtl0upHNy66",
        "outputId": "abc16d59-2b77-46f8-8cc7-1ab159f2c6bf"
      },
      "execution_count": null,
      "outputs": [
        {
          "output_type": "stream",
          "name": "stdout",
          "text": [
            "The Average Marks in English of Students is 47.98\n"
          ]
        }
      ]
    },
    {
      "cell_type": "markdown",
      "source": [
        "**PRACTICAL 92**\n",
        "\n",
        "**Use NumPy to normalize a list of student scores.**"
      ],
      "metadata": {
        "id": "FdtZOL7YPSfJ"
      }
    },
    {
      "cell_type": "code",
      "source": [
        "import numpy as np\n",
        "\n",
        "marks = np.array([45, 60, 72, 90, 100])\n",
        "\n",
        "# Normalize to SPI range (1 to 10)\n",
        "spi_scaled = 1 + ((marks - np.min(marks)) / (np.max(marks) - np.min(marks))) * (10 - 1)\n",
        "\n",
        "print(\"Marks:\", marks)\n",
        "print(\"SPI (scaled 1–10):\", spi_scaled)\n"
      ],
      "metadata": {
        "colab": {
          "base_uri": "https://localhost:8080/"
        },
        "id": "XPLNaZi8_9tB",
        "outputId": "6ca44934-4cfd-465b-a60b-a9a00b5e5e04"
      },
      "execution_count": null,
      "outputs": [
        {
          "output_type": "stream",
          "name": "stdout",
          "text": [
            "Marks: [ 45  60  72  90 100]\n",
            "SPI (scaled 1–10): [ 1.          3.45454545  5.41818182  8.36363636 10.        ]\n"
          ]
        }
      ]
    },
    {
      "cell_type": "markdown",
      "source": [
        "**PRACTICAL 93**\n",
        "\n",
        "**Write a function that accepts a dictionary and returns students\n",
        "with marks above a threshold.**"
      ],
      "metadata": {
        "id": "f6P_UxNHEvMl"
      }
    },
    {
      "cell_type": "code",
      "source": [],
      "metadata": {
        "id": "P8smz8vtE8vT"
      },
      "execution_count": null,
      "outputs": []
    }
  ],
  "metadata": {
    "colab": {
      "provenance": [],
      "mount_file_id": "1GBdlsQgGxXEtAebwRG4cjHZgnisqqWJ4",
      "authorship_tag": "ABX9TyNMlPZJjISuZZY8GWbV3hDY",
      "include_colab_link": true
    },
    "kernelspec": {
      "display_name": "Python 3",
      "name": "python3"
    },
    "language_info": {
      "name": "python"
    }
  },
  "nbformat": 4,
  "nbformat_minor": 0
}